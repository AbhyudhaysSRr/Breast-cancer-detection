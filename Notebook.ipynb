{
  "cells": [
    {
      "attachments": {},
      "cell_type": "markdown",
      "metadata": {},
      "source": [
        "# Welcome to My JupyterBook\n",
        "\n",
        "## About Me\n",
        "\n",
        "Hello! I'm Abhyudhay S R, a Master's student in Data Science. This notebook showcases my portfolio, including my resume, final code, embedded video, and links to various resources such as my MLFlow experiments, Docker container, deployed model, and Streamlit app.\n",
        "\n",
        "## My Resume\n",
        "\n",
        "Here is my resume -\n",
        "\n",
        "<div align = \"center\">\n",
        "<kbd>\n",
        "<img src=\"resume.jpg\" alt=\"alt text\"/>\n",
        "</kbd>\n",
        "</div>\n",
        "<br>"
      ]
    },
    {
      "attachments": {},
      "cell_type": "markdown",
      "metadata": {},
      "source": [
        "\n",
        "## Video\n",
        "\n",
        "Watch my video below:\n",
        "\n",
        "https://drive.google.com/file/d/1QWf0ER_QcHXC00BklXMqwQd9Mx0v6Y8X/view?usp=sharing\n"
      ]
    },
    {
      "attachments": {},
      "cell_type": "markdown",
      "metadata": {},
      "source": [
        "## Links\n",
        "\n",
        "Here are some important links to my experiments, model, and deployed applications:\n",
        "\n",
        "- [DagsHub and MLflow Experiment](https://dagshub.com/abhyudhaysr/my-first-repo.mlflow/#/experiments/0?searchFilter=&orderByKey=attributes.start_time&orderByAsc=false&startTime=ALL&lifecycleFilter=Active&modelVersionFilter=All+Runs&datasetsFilter=W10%3D)\n",
        "- [Docker Hub Container](https://hub.docker.com/r/abhyudhaysr/fastapi-streamlit-app/tags)\n",
        "- [Hosted Streamlit App](http://3.148.117.160:8501/)"
      ]
    },
    {
      "attachments": {},
      "cell_type": "markdown",
      "metadata": {},
      "source": [
        "# Final Code"
      ]
    },
    {
      "cell_type": "markdown",
      "metadata": {
        "id": "8-c1JOrm9Th8"
      },
      "source": [
        "# Data Pre-Processing"
      ]
    },
    {
      "cell_type": "code",
      "execution_count": 2,
      "metadata": {
        "colab": {
          "base_uri": "https://localhost:8080/"
        },
        "id": "rLzWzRIMbrFU",
        "outputId": "2c867056-6ae6-483a-8d1a-11192fc040c0"
      },
      "outputs": [
        {
          "name": "stdout",
          "output_type": "stream",
          "text": [
            "Patient Table Preview:\n",
            "         ID  Diagnosis\n",
            "0    842302          1\n",
            "1    842517          1\n",
            "2  84300903          1\n",
            "3  84348301          1\n",
            "4  84358402          1\n",
            "\n",
            "Feature Table Preview:\n",
            "         ID  Feature_1  Feature_2  Feature_3  Feature_4  Feature_5  Feature_6  \\\n",
            "0    842302      17.99      10.38     122.80     1001.0    0.11840    0.27760   \n",
            "1    842517      20.57      17.77     132.90     1326.0    0.08474    0.07864   \n",
            "2  84300903      19.69      21.25     130.00     1203.0    0.10960    0.15990   \n",
            "3  84348301      11.42      20.38      77.58      386.1    0.14250    0.28390   \n",
            "4  84358402      20.29      14.34     135.10     1297.0    0.10030    0.13280   \n",
            "\n",
            "   Feature_7  Feature_8  Feature_9  ...  Feature_21  Feature_22  Feature_23  \\\n",
            "0     0.3001    0.14710     0.2419  ...       25.38       17.33      184.60   \n",
            "1     0.0869    0.07017     0.1812  ...       24.99       23.41      158.80   \n",
            "2     0.1974    0.12790     0.2069  ...       23.57       25.53      152.50   \n",
            "3     0.2414    0.10520     0.2597  ...       14.91       26.50       98.87   \n",
            "4     0.1980    0.10430     0.1809  ...       22.54       16.67      152.20   \n",
            "\n",
            "   Feature_24  Feature_25  Feature_26  Feature_27  Feature_28  Feature_29  \\\n",
            "0      2019.0      0.1622      0.6656      0.7119      0.2654      0.4601   \n",
            "1      1956.0      0.1238      0.1866      0.2416      0.1860      0.2750   \n",
            "2      1709.0      0.1444      0.4245      0.4504      0.2430      0.3613   \n",
            "3       567.7      0.2098      0.8663      0.6869      0.2575      0.6638   \n",
            "4      1575.0      0.1374      0.2050      0.4000      0.1625      0.2364   \n",
            "\n",
            "   Feature_30  \n",
            "0     0.11890  \n",
            "1     0.08902  \n",
            "2     0.08758  \n",
            "3     0.17300  \n",
            "4     0.07678  \n",
            "\n",
            "[5 rows x 31 columns]\n"
          ]
        }
      ],
      "source": [
        "import pandas as pd\n",
        "\n",
        "# Load the dataset (using previously defined column names)\n",
        "column_names = [\"ID\", \"Diagnosis\"] + [f\"Feature_{i}\" for i in range(1, 31)]\n",
        "file_path = \"wdbc.data\"  # Path to your uploaded file\n",
        "df = pd.read_csv(file_path, header=None, names=column_names)\n",
        "\n",
        "# Create the Patient Table\n",
        "patient_table = df[[\"ID\", \"Diagnosis\"]].copy()\n",
        "patient_table[\"Diagnosis\"] = patient_table[\"Diagnosis\"].map({\"M\": 1, \"B\": 0})  # Convert to binary\n",
        "\n",
        "# Create the Feature Table\n",
        "feature_table = df.drop(columns=[\"Diagnosis\"]).copy()\n",
        "\n",
        "# Preview both tables\n",
        "print(\"Patient Table Preview:\")\n",
        "print(patient_table.head())\n",
        "\n",
        "print(\"\\nFeature Table Preview:\")\n",
        "print(feature_table.head())"
      ]
    },
    {
      "cell_type": "code",
      "execution_count": 3,
      "metadata": {
        "colab": {
          "base_uri": "https://localhost:8080/"
        },
        "id": "JmxuxXHkb8_k",
        "outputId": "c9d5c372-a456-4a16-e96e-601b996f39aa"
      },
      "outputs": [
        {
          "name": "stdout",
          "output_type": "stream",
          "text": [
            "Tables created successfully!\n"
          ]
        }
      ],
      "source": [
        "import sqlite3\n",
        "\n",
        "# Connect to SQLite database (or create one if it doesn't exist)\n",
        "conn = sqlite3.connect(\"breast_cancer.db\")\n",
        "cursor = conn.cursor()\n",
        "\n",
        "# Create Patient Table\n",
        "cursor.execute(\"\"\"\n",
        "CREATE TABLE IF NOT EXISTS Patient (\n",
        "    PatientID INTEGER PRIMARY KEY,\n",
        "    Diagnosis INTEGER\n",
        ");\n",
        "\"\"\")\n",
        "\n",
        "# Create Feature Table\n",
        "cursor.execute(\"\"\"\n",
        "CREATE TABLE IF NOT EXISTS Feature (\n",
        "    PatientID INTEGER,\n",
        "    Feature_1 REAL,\n",
        "    Feature_2 REAL,\n",
        "    Feature_3 REAL,\n",
        "    Feature_4 REAL,\n",
        "    Feature_5 REAL,\n",
        "    Feature_6 REAL,\n",
        "    Feature_7 REAL,\n",
        "    Feature_8 REAL,\n",
        "    Feature_9 REAL,\n",
        "    Feature_10 REAL,\n",
        "    Feature_11 REAL,\n",
        "    Feature_12 REAL,\n",
        "    Feature_13 REAL,\n",
        "    Feature_14 REAL,\n",
        "    Feature_15 REAL,\n",
        "    Feature_16 REAL,\n",
        "    Feature_17 REAL,\n",
        "    Feature_18 REAL,\n",
        "    Feature_19 REAL,\n",
        "    Feature_20 REAL,\n",
        "    Feature_21 REAL,\n",
        "    Feature_22 REAL,\n",
        "    Feature_23 REAL,\n",
        "    Feature_24 REAL,\n",
        "    Feature_25 REAL,\n",
        "    Feature_26 REAL,\n",
        "    Feature_27 REAL,\n",
        "    Feature_28 REAL,\n",
        "    Feature_29 REAL,\n",
        "    Feature_30 REAL,\n",
        "    FOREIGN KEY (PatientID) REFERENCES Patient(PatientID)\n",
        ");\n",
        "\"\"\")\n",
        "\n",
        "print(\"Tables created successfully!\")"
      ]
    },
    {
      "cell_type": "code",
      "execution_count": 4,
      "metadata": {
        "colab": {
          "base_uri": "https://localhost:8080/"
        },
        "id": "tfLTmlV3cD7Q",
        "outputId": "06fcb031-6119-4b99-e47c-e42b0db90669"
      },
      "outputs": [
        {
          "name": "stdout",
          "output_type": "stream",
          "text": [
            "Data inserted successfully!\n"
          ]
        }
      ],
      "source": [
        "# Insert data into Patient Table\n",
        "patient_table.to_sql(\"Patient\", conn, if_exists=\"replace\", index=False)\n",
        "\n",
        "# Insert data into Feature Table\n",
        "feature_table.to_sql(\"Feature\", conn, if_exists=\"replace\", index=False)\n",
        "\n",
        "print(\"Data inserted successfully!\")\n"
      ]
    },
    {
      "cell_type": "code",
      "execution_count": 5,
      "metadata": {
        "colab": {
          "base_uri": "https://localhost:8080/"
        },
        "id": "sb_XlI1zcG5n",
        "outputId": "936ed5df-e4d4-4c14-c56a-4c453b01bd2f"
      },
      "outputs": [
        {
          "name": "stdout",
          "output_type": "stream",
          "text": [
            "Patient Table Sample:\n",
            "         ID  Diagnosis\n",
            "0    842302          1\n",
            "1    842517          1\n",
            "2  84300903          1\n",
            "3  84348301          1\n",
            "4  84358402          1\n",
            "\n",
            "Feature Table Sample:\n",
            "         ID  Feature_1  Feature_2  Feature_3  Feature_4  Feature_5  Feature_6  \\\n",
            "0    842302      17.99      10.38     122.80     1001.0    0.11840    0.27760   \n",
            "1    842517      20.57      17.77     132.90     1326.0    0.08474    0.07864   \n",
            "2  84300903      19.69      21.25     130.00     1203.0    0.10960    0.15990   \n",
            "3  84348301      11.42      20.38      77.58      386.1    0.14250    0.28390   \n",
            "4  84358402      20.29      14.34     135.10     1297.0    0.10030    0.13280   \n",
            "\n",
            "   Feature_7  Feature_8  Feature_9  ...  Feature_21  Feature_22  Feature_23  \\\n",
            "0     0.3001    0.14710     0.2419  ...       25.38       17.33      184.60   \n",
            "1     0.0869    0.07017     0.1812  ...       24.99       23.41      158.80   \n",
            "2     0.1974    0.12790     0.2069  ...       23.57       25.53      152.50   \n",
            "3     0.2414    0.10520     0.2597  ...       14.91       26.50       98.87   \n",
            "4     0.1980    0.10430     0.1809  ...       22.54       16.67      152.20   \n",
            "\n",
            "   Feature_24  Feature_25  Feature_26  Feature_27  Feature_28  Feature_29  \\\n",
            "0      2019.0      0.1622      0.6656      0.7119      0.2654      0.4601   \n",
            "1      1956.0      0.1238      0.1866      0.2416      0.1860      0.2750   \n",
            "2      1709.0      0.1444      0.4245      0.4504      0.2430      0.3613   \n",
            "3       567.7      0.2098      0.8663      0.6869      0.2575      0.6638   \n",
            "4      1575.0      0.1374      0.2050      0.4000      0.1625      0.2364   \n",
            "\n",
            "   Feature_30  \n",
            "0     0.11890  \n",
            "1     0.08902  \n",
            "2     0.08758  \n",
            "3     0.17300  \n",
            "4     0.07678  \n",
            "\n",
            "[5 rows x 31 columns]\n"
          ]
        }
      ],
      "source": [
        "# Query Patient Table\n",
        "print(\"Patient Table Sample:\")\n",
        "print(pd.read_sql_query(\"SELECT * FROM Patient LIMIT 5;\", conn))\n",
        "\n",
        "# Query Feature Table\n",
        "print(\"\\nFeature Table Sample:\")\n",
        "print(pd.read_sql_query(\"SELECT * FROM Feature LIMIT 5;\", conn))\n"
      ]
    },
    {
      "cell_type": "code",
      "execution_count": 6,
      "metadata": {
        "colab": {
          "base_uri": "https://localhost:8080/"
        },
        "id": "LGFfxhPucJ4P",
        "outputId": "5ffe80f9-3f22-4b63-9e5d-4273773e9b55"
      },
      "outputs": [
        {
          "name": "stdout",
          "output_type": "stream",
          "text": [
            "Combined Data Preview:\n",
            "         ID  Diagnosis  Feature_1  Feature_2  Feature_3  Feature_4  Feature_5  \\\n",
            "0    842302          1      17.99      10.38     122.80     1001.0    0.11840   \n",
            "1    842517          1      20.57      17.77     132.90     1326.0    0.08474   \n",
            "2  84300903          1      19.69      21.25     130.00     1203.0    0.10960   \n",
            "3  84348301          1      11.42      20.38      77.58      386.1    0.14250   \n",
            "4  84358402          1      20.29      14.34     135.10     1297.0    0.10030   \n",
            "\n",
            "   Feature_6  Feature_7  Feature_8  ...  Feature_21  Feature_22  Feature_23  \\\n",
            "0    0.27760     0.3001    0.14710  ...       25.38       17.33      184.60   \n",
            "1    0.07864     0.0869    0.07017  ...       24.99       23.41      158.80   \n",
            "2    0.15990     0.1974    0.12790  ...       23.57       25.53      152.50   \n",
            "3    0.28390     0.2414    0.10520  ...       14.91       26.50       98.87   \n",
            "4    0.13280     0.1980    0.10430  ...       22.54       16.67      152.20   \n",
            "\n",
            "   Feature_24  Feature_25  Feature_26  Feature_27  Feature_28  Feature_29  \\\n",
            "0      2019.0      0.1622      0.6656      0.7119      0.2654      0.4601   \n",
            "1      1956.0      0.1238      0.1866      0.2416      0.1860      0.2750   \n",
            "2      1709.0      0.1444      0.4245      0.4504      0.2430      0.3613   \n",
            "3       567.7      0.2098      0.8663      0.6869      0.2575      0.6638   \n",
            "4      1575.0      0.1374      0.2050      0.4000      0.1625      0.2364   \n",
            "\n",
            "   Feature_30  \n",
            "0     0.11890  \n",
            "1     0.08902  \n",
            "2     0.08758  \n",
            "3     0.17300  \n",
            "4     0.07678  \n",
            "\n",
            "[5 rows x 32 columns]\n"
          ]
        }
      ],
      "source": [
        "# Query to join Patient and Feature tables\n",
        "query = \"\"\"\n",
        "SELECT p.ID, p.Diagnosis,\n",
        "       f.Feature_1, f.Feature_2, f.Feature_3, f.Feature_4, f.Feature_5,\n",
        "       f.Feature_6, f.Feature_7, f.Feature_8, f.Feature_9, f.Feature_10,\n",
        "       f.Feature_11, f.Feature_12, f.Feature_13, f.Feature_14, f.Feature_15,\n",
        "       f.Feature_16, f.Feature_17, f.Feature_18, f.Feature_19, f.Feature_20,\n",
        "       f.Feature_21, f.Feature_22, f.Feature_23, f.Feature_24, f.Feature_25,\n",
        "       f.Feature_26, f.Feature_27, f.Feature_28, f.Feature_29, f.Feature_30\n",
        "FROM Patient p\n",
        "JOIN Feature f ON p.ID = f.ID;\n",
        "\"\"\"\n",
        "\n",
        "# Execute the query and load into a Pandas DataFrame\n",
        "combined_data = pd.read_sql_query(query, conn)\n",
        "\n",
        "# Display the first few rows of the combined DataFrame\n",
        "print(\"Combined Data Preview:\")\n",
        "print(combined_data.head())"
      ]
    },
    {
      "cell_type": "code",
      "execution_count": 7,
      "metadata": {
        "colab": {
          "base_uri": "https://localhost:8080/",
          "height": 1000
        },
        "id": "vnOTjXgvcM7k",
        "outputId": "d667815a-bc72-4e9e-f035-414071715d2b"
      },
      "outputs": [
        {
          "name": "stdout",
          "output_type": "stream",
          "text": [
            "Missing Values:\n",
            " ID            0\n",
            "Diagnosis     0\n",
            "Feature_1     0\n",
            "Feature_2     0\n",
            "Feature_3     0\n",
            "Feature_4     0\n",
            "Feature_5     0\n",
            "Feature_6     0\n",
            "Feature_7     0\n",
            "Feature_8     0\n",
            "Feature_9     0\n",
            "Feature_10    0\n",
            "Feature_11    0\n",
            "Feature_12    0\n",
            "Feature_13    0\n",
            "Feature_14    0\n",
            "Feature_15    0\n",
            "Feature_16    0\n",
            "Feature_17    0\n",
            "Feature_18    0\n",
            "Feature_19    0\n",
            "Feature_20    0\n",
            "Feature_21    0\n",
            "Feature_22    0\n",
            "Feature_23    0\n",
            "Feature_24    0\n",
            "Feature_25    0\n",
            "Feature_26    0\n",
            "Feature_27    0\n",
            "Feature_28    0\n",
            "Feature_29    0\n",
            "Feature_30    0\n",
            "dtype: int64\n",
            "\n",
            "Class Distribution:\n",
            " Diagnosis\n",
            "0    357\n",
            "1    212\n",
            "Name: count, dtype: int64\n"
          ]
        },
        {
          "data": {
            "image/png": "[encoded data removed]",
            "text/plain": [
              "<Figure size 640x480 with 1 Axes>"
            ]
          },
          "metadata": {},
          "output_type": "display_data"
        },
        {
          "data": {
            "image/png": "[encoded data removed]",
            "text/plain": [
              "<Figure size 1200x1000 with 2 Axes>"
            ]
          },
          "metadata": {},
          "output_type": "display_data"
        },
        {
          "name": "stdout",
          "output_type": "stream",
          "text": [
            "\n",
            "Feature Statistics:\n",
            "                  ID   Diagnosis   Feature_1   Feature_2   Feature_3  \\\n",
            "count  5.690000e+02  569.000000  569.000000  569.000000  569.000000   \n",
            "mean   3.037183e+07    0.372583   14.127292   19.289649   91.969033   \n",
            "std    1.250206e+08    0.483918    3.524049    4.301036   24.298981   \n",
            "min    8.670000e+03    0.000000    6.981000    9.710000   43.790000   \n",
            "25%    8.692180e+05    0.000000   11.700000   16.170000   75.170000   \n",
            "50%    9.060240e+05    0.000000   13.370000   18.840000   86.240000   \n",
            "75%    8.813129e+06    1.000000   15.780000   21.800000  104.100000   \n",
            "max    9.113205e+08    1.000000   28.110000   39.280000  188.500000   \n",
            "\n",
            "         Feature_4   Feature_5   Feature_6   Feature_7   Feature_8  ...  \\\n",
            "count   569.000000  569.000000  569.000000  569.000000  569.000000  ...   \n",
            "mean    654.889104    0.096360    0.104341    0.088799    0.048919  ...   \n",
            "std     351.914129    0.014064    0.052813    0.079720    0.038803  ...   \n",
            "min     143.500000    0.052630    0.019380    0.000000    0.000000  ...   \n",
            "25%     420.300000    0.086370    0.064920    0.029560    0.020310  ...   \n",
            "50%     551.100000    0.095870    0.092630    0.061540    0.033500  ...   \n",
            "75%     782.700000    0.105300    0.130400    0.130700    0.074000  ...   \n",
            "max    2501.000000    0.163400    0.345400    0.426800    0.201200  ...   \n",
            "\n",
            "       Feature_21  Feature_22  Feature_23   Feature_24  Feature_25  \\\n",
            "count  569.000000  569.000000  569.000000   569.000000  569.000000   \n",
            "mean    16.269190   25.677223  107.261213   880.583128    0.132369   \n",
            "std      4.833242    6.146258   33.602542   569.356993    0.022832   \n",
            "min      7.930000   12.020000   50.410000   185.200000    0.071170   \n",
            "25%     13.010000   21.080000   84.110000   515.300000    0.116600   \n",
            "50%     14.970000   25.410000   97.660000   686.500000    0.131300   \n",
            "75%     18.790000   29.720000  125.400000  1084.000000    0.146000   \n",
            "max     36.040000   49.540000  251.200000  4254.000000    0.222600   \n",
            "\n",
            "       Feature_26  Feature_27  Feature_28  Feature_29  Feature_30  \n",
            "count  569.000000  569.000000  569.000000  569.000000  569.000000  \n",
            "mean     0.254265    0.272188    0.114606    0.290076    0.083946  \n",
            "std      0.157336    0.208624    0.065732    0.061867    0.018061  \n",
            "min      0.027290    0.000000    0.000000    0.156500    0.055040  \n",
            "25%      0.147200    0.114500    0.064930    0.250400    0.071460  \n",
            "50%      0.211900    0.226700    0.099930    0.282200    0.080040  \n",
            "75%      0.339100    0.382900    0.161400    0.317900    0.092080  \n",
            "max      1.058000    1.252000    0.291000    0.663800    0.207500  \n",
            "\n",
            "[8 rows x 32 columns]\n"
          ]
        }
      ],
      "source": [
        "import matplotlib.pyplot as plt\n",
        "import seaborn as sns\n",
        "\n",
        "# 1. Check for missing values\n",
        "print(\"Missing Values:\\n\", combined_data.isnull().sum())\n",
        "\n",
        "# 2. Explore class distribution\n",
        "print(\"\\nClass Distribution:\\n\", combined_data[\"Diagnosis\"].value_counts())\n",
        "sns.countplot(x=\"Diagnosis\", data=combined_data)\n",
        "plt.title(\"Class Distribution\")\n",
        "plt.show()\n",
        "\n",
        "# 3. Correlation matrix\n",
        "plt.figure(figsize=(12, 10))\n",
        "correlation_matrix = combined_data.iloc[:, 2:].corr()  # Exclude ID and Diagnosis columns\n",
        "sns.heatmap(correlation_matrix, cmap=\"coolwarm\", annot=False)\n",
        "plt.title(\"Feature Correlation Matrix\")\n",
        "plt.show()\n",
        "\n",
        "# 4. Basic statistics\n",
        "print(\"\\nFeature Statistics:\\n\", combined_data.describe())\n"
      ]
    },
    {
      "cell_type": "code",
      "execution_count": 8,
      "metadata": {
        "colab": {
          "base_uri": "https://localhost:8080/"
        },
        "id": "CnnuigF9cRnj",
        "outputId": "f4b819e7-b0b9-4fe6-d423-e3d318beacab"
      },
      "outputs": [
        {
          "name": "stdout",
          "output_type": "stream",
          "text": [
            "Training Class Distribution:\n",
            "Diagnosis\n",
            "0    0.626374\n",
            "1    0.373626\n",
            "Name: proportion, dtype: float64\n",
            "\n",
            "Testing Class Distribution:\n",
            "Diagnosis\n",
            "0    0.631579\n",
            "1    0.368421\n",
            "Name: proportion, dtype: float64\n"
          ]
        }
      ],
      "source": [
        "from sklearn.model_selection import train_test_split\n",
        "\n",
        "# Separate features and target variable\n",
        "X = combined_data.drop(columns=[\"ID\", \"Diagnosis\"])  # Features\n",
        "y = combined_data[\"Diagnosis\"]                      # Target\n",
        "\n",
        "# Perform stratified train-test split\n",
        "X_train, X_test, y_train, y_test = train_test_split(\n",
        "    X, y, test_size=0.2, random_state=42, stratify=y\n",
        ")\n",
        "\n",
        "# Confirm class distribution\n",
        "print(\"Training Class Distribution:\")\n",
        "print(y_train.value_counts(normalize=True))\n",
        "\n",
        "print(\"\\nTesting Class Distribution:\")\n",
        "print(y_test.value_counts(normalize=True))\n"
      ]
    },
    {
      "cell_type": "code",
      "execution_count": 9,
      "metadata": {
        "colab": {
          "base_uri": "https://localhost:8080/"
        },
        "id": "xySSMVk9xnXg",
        "outputId": "2bc5758f-a3a2-4ee6-ad5c-89e365377d9f"
      },
      "outputs": [
        {
          "name": "stdout",
          "output_type": "stream",
          "text": [
            "Scaled Training Data Preview:\n",
            "   Feature_1  Feature_2  Feature_3  Feature_4  Feature_5  Feature_6  \\\n",
            "0   0.518559   0.891826   0.424632   0.383925  -0.974744  -0.689772   \n",
            "1  -0.516364  -1.639710  -0.541349  -0.542961   0.476219  -0.631834   \n",
            "2  -0.368118   0.455515  -0.388250  -0.402970  -1.432979  -0.383927   \n",
            "3   0.205285   0.726168   0.400330   0.070612   0.243253   2.203585   \n",
            "4   1.243005   0.194195   1.210377   1.206652  -0.111442   0.051348   \n",
            "\n",
            "   Feature_7  Feature_8  Feature_9  Feature_10  ...  Feature_21  Feature_22  \\\n",
            "0  -0.688586  -0.398175  -1.039155   -0.825056  ...    0.579798    1.313242   \n",
            "1  -0.604281  -0.303075   0.521543   -0.454523  ...   -0.582459   -1.690291   \n",
            "2  -0.342175  -0.765459  -0.850857   -0.226171  ...   -0.398622    0.181977   \n",
            "3   2.256094   1.213233   0.818474    0.899791  ...   -0.000309    0.274191   \n",
            "4   0.732962   0.713767  -0.427187   -0.822184  ...    1.012835    0.223144   \n",
            "\n",
            "   Feature_23  Feature_24  Feature_25  Feature_26  Feature_27  Feature_28  \\\n",
            "0    0.466908    0.445983   -0.596155   -0.634722   -0.610227   -0.235744   \n",
            "1   -0.611934   -0.587014    0.273582   -0.814844   -0.712666   -0.323208   \n",
            "2   -0.475431   -0.420778   -1.622785   -0.391399   -0.431313   -0.890825   \n",
            "3    0.513776   -0.099482    0.418538    2.865970    2.958619    1.977064   \n",
            "4    0.938517    0.880910    0.073201   -0.277006    0.327775    0.501859   \n",
            "\n",
            "   Feature_29  Feature_30  \n",
            "0    0.054566    0.021837  \n",
            "1   -0.137576   -0.904402  \n",
            "2   -0.675893   -0.144016  \n",
            "3   -0.075646    1.728848  \n",
            "4   -0.909322   -0.546249  \n",
            "\n",
            "[5 rows x 30 columns]\n"
          ]
        }
      ],
      "source": [
        "from sklearn.preprocessing import StandardScaler\n",
        "\n",
        "# Initialize the scaler\n",
        "scaler = StandardScaler()\n",
        "\n",
        "# Fit the scaler on training data and transform both train and test sets\n",
        "X_train_scaled = scaler.fit_transform(X_train)\n",
        "X_test_scaled = scaler.transform(X_test)\n",
        "\n",
        "# Convert scaled data back to DataFrame for easier analysis\n",
        "X_train_scaled = pd.DataFrame(X_train_scaled, columns=X_train.columns)\n",
        "X_test_scaled = pd.DataFrame(X_test_scaled, columns=X_test.columns)\n",
        "\n",
        "# Display the first few rows of scaled training data\n",
        "print(\"Scaled Training Data Preview:\")\n",
        "print(X_train_scaled.head())"
      ]
    },
    {
      "cell_type": "code",
      "execution_count": 10,
      "metadata": {
        "colab": {
          "base_uri": "https://localhost:8080/"
        },
        "id": "yaWGfX9ucc7P",
        "outputId": "f8baeb05-8d6c-49de-b126-00fcee2514df"
      },
      "outputs": [
        {
          "name": "stdout",
          "output_type": "stream",
          "text": [
            "\u001b[2K   \u001b[90m━━━━━━━━━━━━━━━━━━━━━━━━━━━━━━━━━━━━━━━━\u001b[0m \u001b[32m254.0/254.0 kB\u001b[0m \u001b[31m12.5 MB/s\u001b[0m eta \u001b[36m0:00:00\u001b[0m\n",
            "\u001b[2K   \u001b[90m━━━━━━━━━━━━━━━━━━━━━━━━━━━━━━━━━━━━━━━━\u001b[0m \u001b[32m27.4/27.4 MB\u001b[0m \u001b[31m58.4 MB/s\u001b[0m eta \u001b[36m0:00:00\u001b[0m\n",
            "\u001b[2K   \u001b[90m━━━━━━━━━━━━━━━━━━━━━━━━━━━━━━━━━━━━━━━━\u001b[0m \u001b[32m5.9/5.9 MB\u001b[0m \u001b[31m81.6 MB/s\u001b[0m eta \u001b[36m0:00:00\u001b[0m\n",
            "\u001b[2K   \u001b[90m━━━━━━━━━━━━━━━━━━━━━━━━━━━━━━━━━━━━━━━━\u001b[0m \u001b[32m233.5/233.5 kB\u001b[0m \u001b[31m18.2 MB/s\u001b[0m eta \u001b[36m0:00:00\u001b[0m\n",
            "\u001b[2K   \u001b[90m━━━━━━━━━━━━━━━━━━━━━━━━━━━━━━━━━━━━━━━━\u001b[0m \u001b[32m147.8/147.8 kB\u001b[0m \u001b[31m10.4 MB/s\u001b[0m eta \u001b[36m0:00:00\u001b[0m\n",
            "\u001b[2K   \u001b[90m━━━━━━━━━━━━━━━━━━━━━━━━━━━━━━━━━━━━━━━━\u001b[0m \u001b[32m114.9/114.9 kB\u001b[0m \u001b[31m9.0 MB/s\u001b[0m eta \u001b[36m0:00:00\u001b[0m\n",
            "\u001b[2K   \u001b[90m━━━━━━━━━━━━━━━━━━━━━━━━━━━━━━━━━━━━━━━━\u001b[0m \u001b[32m85.0/85.0 kB\u001b[0m \u001b[31m6.4 MB/s\u001b[0m eta \u001b[36m0:00:00\u001b[0m\n",
            "\u001b[2K   \u001b[90m━━━━━━━━━━━━━━━━━━━━━━━━━━━━━━━━━━━━━━━━\u001b[0m \u001b[32m139.2/139.2 kB\u001b[0m \u001b[31m9.9 MB/s\u001b[0m eta \u001b[36m0:00:00\u001b[0m\n",
            "\u001b[2K   \u001b[90m━━━━━━━━━━━━━━━━━━━━━━━━━━━━━━━━━━━━━━━━\u001b[0m \u001b[32m13.3/13.3 MB\u001b[0m \u001b[31m84.2 MB/s\u001b[0m eta \u001b[36m0:00:00\u001b[0m\n",
            "\u001b[2K   \u001b[90m━━━━━━━━━━━━━━━━━━━━━━━━━━━━━━━━━━━━━━━━\u001b[0m \u001b[32m629.7/629.7 kB\u001b[0m \u001b[31m34.5 MB/s\u001b[0m eta \u001b[36m0:00:00\u001b[0m\n",
            "\u001b[2K   \u001b[90m━━━━━━━━━━━━━━━━━━━━━━━━━━━━━━━━━━━━━━━━\u001b[0m \u001b[32m203.2/203.2 kB\u001b[0m \u001b[31m15.5 MB/s\u001b[0m eta \u001b[36m0:00:00\u001b[0m\n",
            "\u001b[2K   \u001b[90m━━━━━━━━━━━━━━━━━━━━━━━━━━━━━━━━━━━━━━━━\u001b[0m \u001b[32m49.3/49.3 kB\u001b[0m \u001b[31m3.6 MB/s\u001b[0m eta \u001b[36m0:00:00\u001b[0m\n",
            "\u001b[2K   \u001b[90m━━━━━━━━━━━━━━━━━━━━━━━━━━━━━━━━━━━━━━━━\u001b[0m \u001b[32m83.2/83.2 kB\u001b[0m \u001b[31m6.6 MB/s\u001b[0m eta \u001b[36m0:00:00\u001b[0m\n",
            "\u001b[2K   \u001b[90m━━━━━━━━━━━━━━━━━━━━━━━━━━━━━━━━━━━━━━━━\u001b[0m \u001b[32m74.0/74.0 kB\u001b[0m \u001b[31m5.4 MB/s\u001b[0m eta \u001b[36m0:00:00\u001b[0m\n",
            "\u001b[2K   \u001b[90m━━━━━━━━━━━━━━━━━━━━━━━━━━━━━━━━━━━━━━━━\u001b[0m \u001b[32m78.6/78.6 kB\u001b[0m \u001b[31m6.1 MB/s\u001b[0m eta \u001b[36m0:00:00\u001b[0m\n",
            "\u001b[?25h"
          ]
        }
      ],
      "source": [
        "!pip install -q dagshub mlflow"
      ]
    },
    {
      "cell_type": "code",
      "execution_count": null,
      "metadata": {
        "colab": {
          "base_uri": "https://localhost:8080/",
          "height": 212,
          "referenced_widgets": [
            "26d3332a720848b38cc5bd62faff0b0f",
            "353006f1b5384b98b66303b5e1113d45"
          ]
        },
        "id": "yyZyVEzbcoGl",
        "outputId": "39ad50d1-60d1-4b3f-c514-0996577eef1b"
      },
      "outputs": [
        {
          "data": {
            "text/html": [
              "<pre style=\"white-space:pre;overflow-x:auto;line-height:normal;font-family:Menlo,'DejaVu Sans Mono',consolas,'Courier New',monospace\">                                       <span style=\"font-weight: bold\">❗❗❗ AUTHORIZATION REQUIRED ❗❗❗</span>                                        \n",
              "</pre>\n"
            ],
            "text/plain": [
              "                                       \u001b[1m❗❗❗ AUTHORIZATION REQUIRED ❗❗❗\u001b[0m                                        \n"
            ]
          },
          "metadata": {},
          "output_type": "display_data"
        },
        {
          "data": {
            "application/vnd.jupyter.widget-view+json": {
              "model_id": "26d3332a720848b38cc5bd62faff0b0f",
              "version_major": 2,
              "version_minor": 0
            },
            "text/plain": [
              "Output()"
            ]
          },
          "metadata": {},
          "output_type": "display_data"
        },
        {
          "name": "stdout",
          "output_type": "stream",
          "text": [
            "\n",
            "\n",
            "Open the following link in your browser to authorize the client:\n",
            "https://dagshub.com/login/oauth/authorize?state=5ddbccd3-1341-4733-8356-dcd20c1fb030&client_id=32b60ba385aa7cecf24046d8195a71c07dd345d9657977863b52e7748e0f0f28&middleman_request_id=8425cad4f36241d103ab607ca8487d2743385bc742e0ad7dcd157812fe5a3603\n",
            "\n",
            "\n"
          ]
        },
        {
          "data": {
            "text/html": [
              "<pre style=\"white-space:pre;overflow-x:auto;line-height:normal;font-family:Menlo,'DejaVu Sans Mono',consolas,'Courier New',monospace\"></pre>\n"
            ],
            "text/plain": []
          },
          "metadata": {},
          "output_type": "display_data"
        },
        {
          "data": {
            "text/html": [
              "<pre style=\"white-space:pre;overflow-x:auto;line-height:normal;font-family:Menlo,'DejaVu Sans Mono',consolas,'Courier New',monospace\">Accessing as abhyudhaysr\n",
              "</pre>\n"
            ],
            "text/plain": [
              "Accessing as abhyudhaysr\n"
            ]
          },
          "metadata": {},
          "output_type": "display_data"
        },
        {
          "data": {
            "text/html": [
              "<pre style=\"white-space:pre;overflow-x:auto;line-height:normal;font-family:Menlo,'DejaVu Sans Mono',consolas,'Courier New',monospace\">Initialized MLflow to track repo <span style=\"color: #008000; text-decoration-color: #008000\">\"abhyudhaysr/my-first-repo\"</span>\n",
              "</pre>\n"
            ],
            "text/plain": [
              "Initialized MLflow to track repo \u001b[32m\"abhyudhaysr/my-first-repo\"\u001b[0m\n"
            ]
          },
          "metadata": {},
          "output_type": "display_data"
        },
        {
          "data": {
            "text/html": [
              "<pre style=\"white-space:pre;overflow-x:auto;line-height:normal;font-family:Menlo,'DejaVu Sans Mono',consolas,'Courier New',monospace\">Repository abhyudhaysr/my-first-repo initialized!\n",
              "</pre>\n"
            ],
            "text/plain": [
              "Repository abhyudhaysr/my-first-repo initialized!\n"
            ]
          },
          "metadata": {},
          "output_type": "display_data"
        }
      ],
      "source": [
        "import mlflow\n",
        "import mlflow.sklearn\n",
        "import dagshub\n",
        "dagshub.init(repo_owner='abhyudhaysr', repo_name='my-first-repo', mlflow=True)"
      ]
    },
    {
      "cell_type": "code",
      "execution_count": 11,
      "metadata": {
        "colab": {
          "base_uri": "https://localhost:8080/"
        },
        "id": "orZ6VuSJukn4",
        "outputId": "38f30afa-8934-4439-f579-fc262ec45ec7"
      },
      "outputs": [
        {
          "name": "stdout",
          "output_type": "stream",
          "text": [
            "Unique classes in y_test: {0, 1}\n"
          ]
        }
      ],
      "source": [
        "print(\"Unique classes in y_test:\", set(y_test))"
      ]
    },
    {
      "cell_type": "markdown",
      "metadata": {
        "id": "sOYcCkje9cr7"
      },
      "source": [
        "# Experiment 1"
      ]
    },
    {
      "cell_type": "code",
      "execution_count": 12,
      "metadata": {
        "colab": {
          "base_uri": "https://localhost:8080/"
        },
        "id": "A2P_tI5Hdpb-",
        "outputId": "8d765fc9-4011-475b-b678-6f1d8e80d070"
      },
      "outputs": [
        {
          "name": "stdout",
          "output_type": "stream",
          "text": [
            "F1-Score (mean): 0.9376195330323771\n",
            "F1-Score (std): 0.01696654094059776\n",
            "Confusion Matrix: TN=284, FP=1, FN=19, TP=151\n"
          ]
        }
      ],
      "source": [
        "from sklearn.pipeline import Pipeline\n",
        "from sklearn.preprocessing import StandardScaler, MinMaxScaler, FunctionTransformer\n",
        "from sklearn.model_selection import cross_val_score, cross_val_predict, StratifiedKFold\n",
        "from sklearn.metrics import f1_score, confusion_matrix, make_scorer\n",
        "import numpy as np\n",
        "import mlflow\n",
        "from sklearn.linear_model import LogisticRegression\n",
        "\n",
        "\n",
        "# Log Transformation Function\n",
        "def log_transform(X):\n",
        "    return np.log1p(X)\n",
        "\n",
        "# Initialize pipeline\n",
        "pipeline = Pipeline([\n",
        "    (\"scaler\", StandardScaler()),\n",
        "    (\"minmax\", MinMaxScaler()),\n",
        "    (\"log_transform\", FunctionTransformer(log_transform, validate=True)),\n",
        "    (\"log_reg\", LogisticRegression(random_state=42, max_iter=1000))\n",
        "])\n",
        "\n",
        "# Cross-validation setup\n",
        "cv = StratifiedKFold(n_splits=3, shuffle=True, random_state=42)\n",
        "\n",
        "# Train and evaluate\n",
        "with mlflow.start_run():\n",
        "    # Cross-validation F1-scores\n",
        "    f1_scores = cross_val_score(pipeline, X_train, y_train, cv=cv, scoring=make_scorer(f1_score))\n",
        "    y_pred_cv = cross_val_predict(pipeline, X_train, y_train, cv=cv)\n",
        "\n",
        "    # Confusion matrix components\n",
        "    tn, fp, fn, tp = confusion_matrix(y_train, y_pred_cv).ravel()\n",
        "\n",
        "    # Log metrics to MLFlow\n",
        "    mlflow.log_metric(\"F1_Score_Mean\", np.mean(f1_scores))\n",
        "    mlflow.log_metric(\"F1_Score_Std\", np.std(f1_scores))\n",
        "    mlflow.log_metric(\"True_Negatives\", tn)\n",
        "    mlflow.log_metric(\"False_Positives\", fp)\n",
        "    mlflow.log_metric(\"False_Negatives\", fn)\n",
        "    mlflow.log_metric(\"True_Positives\", tp)\n",
        "\n",
        "    print(f\"F1-Score (mean): {np.mean(f1_scores)}\")\n",
        "    print(f\"F1-Score (std): {np.std(f1_scores)}\")\n",
        "    print(f\"Confusion Matrix: TN={tn}, FP={fp}, FN={fn}, TP={tp}\")\n",
        "\n",
        "    # Hyperparameter tuning example\n",
        "    # Log hyperparameter settings\n",
        "    mlflow.log_param(\"max_iter\", 1000)\n",
        "    mlflow.log_param(\"penalty\", \"l2\")\n",
        "    mlflow.log_param(\"solver\", \"lbfgs\")\n"
      ]
    },
    {
      "cell_type": "markdown",
      "metadata": {
        "id": "QwQyXfuk9gVf"
      },
      "source": [
        "# Experiment 2"
      ]
    },
    {
      "cell_type": "code",
      "execution_count": null,
      "metadata": {
        "colab": {
          "base_uri": "https://localhost:8080/",
          "height": 1000
        },
        "id": "7vdctJt0ApOY",
        "outputId": "7abc13f4-4759-45b8-b4d3-f153a5ac64d7"
      },
      "outputs": [
        {
          "name": "stdout",
          "output_type": "stream",
          "text": [
            "Classifier: LogisticRegression\n",
            "F1-Score (mean): 0.9645989974937343\n",
            "F1-Score (std): 0.01419833232283792\n",
            "Confusion Matrix: TN=280, FP=5, FN=7, TP=163\n",
            "🏃 View run Experiment_2_LogisticRegression at: https://dagshub.com/abhyudhaysr/my-first-repo.mlflow/#/experiments/0/runs/0704703bc56246e8b1dd5d2908e50983\n",
            "🧪 View experiment at: https://dagshub.com/abhyudhaysr/my-first-repo.mlflow/#/experiments/0\n",
            "Classifier: RidgeClassifier\n",
            "F1-Score (mean): 0.9376892615886326\n",
            "F1-Score (std): 0.023876361403433587\n",
            "Confusion Matrix: TN=284, FP=1, FN=19, TP=151\n",
            "🏃 View run Experiment_2_RidgeClassifier at: https://dagshub.com/abhyudhaysr/my-first-repo.mlflow/#/experiments/0/runs/7e6111d2520b420f9d738cedbc1aa2d2\n",
            "🧪 View experiment at: https://dagshub.com/abhyudhaysr/my-first-repo.mlflow/#/experiments/0\n",
            "Classifier: RandomForestClassifier\n",
            "F1-Score (mean): 0.9470579102623815\n",
            "F1-Score (std): 0.02167801232815656\n",
            "Confusion Matrix: TN=276, FP=9, FN=9, TP=161\n",
            "🏃 View run Experiment_2_RandomForestClassifier at: https://dagshub.com/abhyudhaysr/my-first-repo.mlflow/#/experiments/0/runs/d54a1a15963c4199bad1d8631110223d\n",
            "🧪 View experiment at: https://dagshub.com/abhyudhaysr/my-first-repo.mlflow/#/experiments/0\n"
          ]
        },
        {
          "name": "stderr",
          "output_type": "stream",
          "text": [
            "/usr/local/lib/python3.10/dist-packages/xgboost/core.py:158: UserWarning: [03:45:27] WARNING: /workspace/src/learner.cc:740: \n",
            "Parameters: { \"use_label_encoder\" } are not used.\n",
            "\n",
            "  warnings.warn(smsg, UserWarning)\n",
            "/usr/local/lib/python3.10/dist-packages/sklearn/model_selection/_validation.py:978: UserWarning: Scoring failed. The score on this train-test partition for these parameters will be set to nan. Details: \n",
            "Traceback (most recent call last):\n",
            "  File \"/usr/local/lib/python3.10/dist-packages/sklearn/metrics/_scorer.py\", line 140, in __call__\n",
            "    score = scorer._score(\n",
            "  File \"/usr/local/lib/python3.10/dist-packages/sklearn/metrics/_scorer.py\", line 380, in _score\n",
            "    y_pred = method_caller(\n",
            "  File \"/usr/local/lib/python3.10/dist-packages/sklearn/metrics/_scorer.py\", line 90, in _cached_call\n",
            "    result, _ = _get_response_values(\n",
            "  File \"/usr/local/lib/python3.10/dist-packages/sklearn/utils/_response.py\", line 242, in _get_response_values\n",
            "    y_pred, pos_label = prediction_method(X), None\n",
            "  File \"/usr/local/lib/python3.10/dist-packages/sklearn/pipeline.py\", line 780, in predict\n",
            "    with _raise_or_warn_if_not_fitted(self):\n",
            "  File \"/usr/lib/python3.10/contextlib.py\", line 142, in __exit__\n",
            "    next(self.gen)\n",
            "  File \"/usr/local/lib/python3.10/dist-packages/sklearn/pipeline.py\", line 60, in _raise_or_warn_if_not_fitted\n",
            "    check_is_fitted(estimator)\n",
            "  File \"/usr/local/lib/python3.10/dist-packages/sklearn/utils/validation.py\", line 1756, in check_is_fitted\n",
            "    if not _is_fitted(estimator, attributes, all_or_any):\n",
            "  File \"/usr/local/lib/python3.10/dist-packages/sklearn/utils/validation.py\", line 1665, in _is_fitted\n",
            "    return estimator.__sklearn_is_fitted__()\n",
            "  File \"/usr/local/lib/python3.10/dist-packages/sklearn/pipeline.py\", line 1310, in __sklearn_is_fitted__\n",
            "    check_is_fitted(last_step)\n",
            "  File \"/usr/local/lib/python3.10/dist-packages/sklearn/utils/validation.py\", line 1751, in check_is_fitted\n",
            "    tags = get_tags(estimator)\n",
            "  File \"/usr/local/lib/python3.10/dist-packages/sklearn/utils/_tags.py\", line 405, in get_tags\n",
            "    sklearn_tags_provider[klass] = klass.__sklearn_tags__(estimator)  # type: ignore[attr-defined]\n",
            "  File \"/usr/local/lib/python3.10/dist-packages/sklearn/base.py\", line 540, in __sklearn_tags__\n",
            "    tags = super().__sklearn_tags__()\n",
            "AttributeError: 'super' object has no attribute '__sklearn_tags__'\n",
            "\n",
            "  warnings.warn(\n",
            "/usr/local/lib/python3.10/dist-packages/xgboost/core.py:158: UserWarning: [03:45:28] WARNING: /workspace/src/learner.cc:740: \n",
            "Parameters: { \"use_label_encoder\" } are not used.\n",
            "\n",
            "  warnings.warn(smsg, UserWarning)\n",
            "/usr/local/lib/python3.10/dist-packages/sklearn/model_selection/_validation.py:978: UserWarning: Scoring failed. The score on this train-test partition for these parameters will be set to nan. Details: \n",
            "Traceback (most recent call last):\n",
            "  File \"/usr/local/lib/python3.10/dist-packages/sklearn/metrics/_scorer.py\", line 140, in __call__\n",
            "    score = scorer._score(\n",
            "  File \"/usr/local/lib/python3.10/dist-packages/sklearn/metrics/_scorer.py\", line 380, in _score\n",
            "    y_pred = method_caller(\n",
            "  File \"/usr/local/lib/python3.10/dist-packages/sklearn/metrics/_scorer.py\", line 90, in _cached_call\n",
            "    result, _ = _get_response_values(\n",
            "  File \"/usr/local/lib/python3.10/dist-packages/sklearn/utils/_response.py\", line 242, in _get_response_values\n",
            "    y_pred, pos_label = prediction_method(X), None\n",
            "  File \"/usr/local/lib/python3.10/dist-packages/sklearn/pipeline.py\", line 780, in predict\n",
            "    with _raise_or_warn_if_not_fitted(self):\n",
            "  File \"/usr/lib/python3.10/contextlib.py\", line 142, in __exit__\n",
            "    next(self.gen)\n",
            "  File \"/usr/local/lib/python3.10/dist-packages/sklearn/pipeline.py\", line 60, in _raise_or_warn_if_not_fitted\n",
            "    check_is_fitted(estimator)\n",
            "  File \"/usr/local/lib/python3.10/dist-packages/sklearn/utils/validation.py\", line 1756, in check_is_fitted\n",
            "    if not _is_fitted(estimator, attributes, all_or_any):\n",
            "  File \"/usr/local/lib/python3.10/dist-packages/sklearn/utils/validation.py\", line 1665, in _is_fitted\n",
            "    return estimator.__sklearn_is_fitted__()\n",
            "  File \"/usr/local/lib/python3.10/dist-packages/sklearn/pipeline.py\", line 1310, in __sklearn_is_fitted__\n",
            "    check_is_fitted(last_step)\n",
            "  File \"/usr/local/lib/python3.10/dist-packages/sklearn/utils/validation.py\", line 1751, in check_is_fitted\n",
            "    tags = get_tags(estimator)\n",
            "  File \"/usr/local/lib/python3.10/dist-packages/sklearn/utils/_tags.py\", line 405, in get_tags\n",
            "    sklearn_tags_provider[klass] = klass.__sklearn_tags__(estimator)  # type: ignore[attr-defined]\n",
            "  File \"/usr/local/lib/python3.10/dist-packages/sklearn/base.py\", line 540, in __sklearn_tags__\n",
            "    tags = super().__sklearn_tags__()\n",
            "AttributeError: 'super' object has no attribute '__sklearn_tags__'\n",
            "\n",
            "  warnings.warn(\n",
            "/usr/local/lib/python3.10/dist-packages/xgboost/core.py:158: UserWarning: [03:45:28] WARNING: /workspace/src/learner.cc:740: \n",
            "Parameters: { \"use_label_encoder\" } are not used.\n",
            "\n",
            "  warnings.warn(smsg, UserWarning)\n",
            "/usr/local/lib/python3.10/dist-packages/sklearn/model_selection/_validation.py:978: UserWarning: Scoring failed. The score on this train-test partition for these parameters will be set to nan. Details: \n",
            "Traceback (most recent call last):\n",
            "  File \"/usr/local/lib/python3.10/dist-packages/sklearn/metrics/_scorer.py\", line 140, in __call__\n",
            "    score = scorer._score(\n",
            "  File \"/usr/local/lib/python3.10/dist-packages/sklearn/metrics/_scorer.py\", line 380, in _score\n",
            "    y_pred = method_caller(\n",
            "  File \"/usr/local/lib/python3.10/dist-packages/sklearn/metrics/_scorer.py\", line 90, in _cached_call\n",
            "    result, _ = _get_response_values(\n",
            "  File \"/usr/local/lib/python3.10/dist-packages/sklearn/utils/_response.py\", line 242, in _get_response_values\n",
            "    y_pred, pos_label = prediction_method(X), None\n",
            "  File \"/usr/local/lib/python3.10/dist-packages/sklearn/pipeline.py\", line 780, in predict\n",
            "    with _raise_or_warn_if_not_fitted(self):\n",
            "  File \"/usr/lib/python3.10/contextlib.py\", line 142, in __exit__\n",
            "    next(self.gen)\n",
            "  File \"/usr/local/lib/python3.10/dist-packages/sklearn/pipeline.py\", line 60, in _raise_or_warn_if_not_fitted\n",
            "    check_is_fitted(estimator)\n",
            "  File \"/usr/local/lib/python3.10/dist-packages/sklearn/utils/validation.py\", line 1756, in check_is_fitted\n",
            "    if not _is_fitted(estimator, attributes, all_or_any):\n",
            "  File \"/usr/local/lib/python3.10/dist-packages/sklearn/utils/validation.py\", line 1665, in _is_fitted\n",
            "    return estimator.__sklearn_is_fitted__()\n",
            "  File \"/usr/local/lib/python3.10/dist-packages/sklearn/pipeline.py\", line 1310, in __sklearn_is_fitted__\n",
            "    check_is_fitted(last_step)\n",
            "  File \"/usr/local/lib/python3.10/dist-packages/sklearn/utils/validation.py\", line 1751, in check_is_fitted\n",
            "    tags = get_tags(estimator)\n",
            "  File \"/usr/local/lib/python3.10/dist-packages/sklearn/utils/_tags.py\", line 405, in get_tags\n",
            "    sklearn_tags_provider[klass] = klass.__sklearn_tags__(estimator)  # type: ignore[attr-defined]\n",
            "  File \"/usr/local/lib/python3.10/dist-packages/sklearn/base.py\", line 540, in __sklearn_tags__\n",
            "    tags = super().__sklearn_tags__()\n",
            "AttributeError: 'super' object has no attribute '__sklearn_tags__'\n",
            "\n",
            "  warnings.warn(\n",
            "/usr/local/lib/python3.10/dist-packages/xgboost/core.py:158: UserWarning: [03:45:28] WARNING: /workspace/src/learner.cc:740: \n",
            "Parameters: { \"use_label_encoder\" } are not used.\n",
            "\n",
            "  warnings.warn(smsg, UserWarning)\n"
          ]
        },
        {
          "name": "stdout",
          "output_type": "stream",
          "text": [
            "🏃 View run Experiment_2_XGBClassifier at: https://dagshub.com/abhyudhaysr/my-first-repo.mlflow/#/experiments/0/runs/14ef00de8c1946ccb10ed897f440d44b\n",
            "🧪 View experiment at: https://dagshub.com/abhyudhaysr/my-first-repo.mlflow/#/experiments/0\n"
          ]
        },
        {
          "ename": "AttributeError",
          "evalue": "'super' object has no attribute '__sklearn_tags__'",
          "output_type": "error",
          "traceback": [
            "\u001b[0;31m---------------------------------------------------------------------------\u001b[0m",
            "\u001b[0;31mAttributeError\u001b[0m                            Traceback (most recent call last)",
            "\u001b[0;32m<ipython-input-52-e224cf37ac43>\u001b[0m in \u001b[0;36m<cell line: 17>\u001b[0;34m()\u001b[0m\n\u001b[1;32m     24\u001b[0m         \u001b[0;31m# Cross-validation F1-scores\u001b[0m\u001b[0;34m\u001b[0m\u001b[0;34m\u001b[0m\u001b[0m\n\u001b[1;32m     25\u001b[0m         \u001b[0mf1_scores\u001b[0m \u001b[0;34m=\u001b[0m \u001b[0mcross_val_score\u001b[0m\u001b[0;34m(\u001b[0m\u001b[0mpipeline\u001b[0m\u001b[0;34m,\u001b[0m \u001b[0mX_train_scaled\u001b[0m\u001b[0;34m,\u001b[0m \u001b[0my_train\u001b[0m\u001b[0;34m,\u001b[0m \u001b[0mcv\u001b[0m\u001b[0;34m=\u001b[0m\u001b[0mcv\u001b[0m\u001b[0;34m,\u001b[0m \u001b[0mscoring\u001b[0m\u001b[0;34m=\u001b[0m\u001b[0mmake_scorer\u001b[0m\u001b[0;34m(\u001b[0m\u001b[0mf1_score\u001b[0m\u001b[0;34m)\u001b[0m\u001b[0;34m)\u001b[0m\u001b[0;34m\u001b[0m\u001b[0;34m\u001b[0m\u001b[0m\n\u001b[0;32m---> 26\u001b[0;31m         \u001b[0my_pred_cv\u001b[0m \u001b[0;34m=\u001b[0m \u001b[0mcross_val_predict\u001b[0m\u001b[0;34m(\u001b[0m\u001b[0mpipeline\u001b[0m\u001b[0;34m,\u001b[0m \u001b[0mX_train_scaled\u001b[0m\u001b[0;34m,\u001b[0m \u001b[0my_train\u001b[0m\u001b[0;34m,\u001b[0m \u001b[0mcv\u001b[0m\u001b[0;34m=\u001b[0m\u001b[0mcv\u001b[0m\u001b[0;34m)\u001b[0m\u001b[0;34m\u001b[0m\u001b[0;34m\u001b[0m\u001b[0m\n\u001b[0m\u001b[1;32m     27\u001b[0m \u001b[0;34m\u001b[0m\u001b[0m\n\u001b[1;32m     28\u001b[0m         \u001b[0;31m# Confusion matrix components\u001b[0m\u001b[0;34m\u001b[0m\u001b[0;34m\u001b[0m\u001b[0m\n",
            "\u001b[0;32m/usr/local/lib/python3.10/dist-packages/sklearn/utils/_param_validation.py\u001b[0m in \u001b[0;36mwrapper\u001b[0;34m(*args, **kwargs)\u001b[0m\n\u001b[1;32m    214\u001b[0m                     )\n\u001b[1;32m    215\u001b[0m                 ):\n\u001b[0;32m--> 216\u001b[0;31m                     \u001b[0;32mreturn\u001b[0m \u001b[0mfunc\u001b[0m\u001b[0;34m(\u001b[0m\u001b[0;34m*\u001b[0m\u001b[0margs\u001b[0m\u001b[0;34m,\u001b[0m \u001b[0;34m**\u001b[0m\u001b[0mkwargs\u001b[0m\u001b[0;34m)\u001b[0m\u001b[0;34m\u001b[0m\u001b[0;34m\u001b[0m\u001b[0m\n\u001b[0m\u001b[1;32m    217\u001b[0m             \u001b[0;32mexcept\u001b[0m \u001b[0mInvalidParameterError\u001b[0m \u001b[0;32mas\u001b[0m \u001b[0me\u001b[0m\u001b[0;34m:\u001b[0m\u001b[0;34m\u001b[0m\u001b[0;34m\u001b[0m\u001b[0m\n\u001b[1;32m    218\u001b[0m                 \u001b[0;31m# When the function is just a wrapper around an estimator, we allow\u001b[0m\u001b[0;34m\u001b[0m\u001b[0;34m\u001b[0m\u001b[0m\n",
            "\u001b[0;32m/usr/local/lib/python3.10/dist-packages/sklearn/model_selection/_validation.py\u001b[0m in \u001b[0;36mcross_val_predict\u001b[0;34m(estimator, X, y, groups, cv, n_jobs, verbose, params, pre_dispatch, method)\u001b[0m\n\u001b[1;32m   1244\u001b[0m     \u001b[0;31m# independent, and that it is pickle-able.\u001b[0m\u001b[0;34m\u001b[0m\u001b[0;34m\u001b[0m\u001b[0m\n\u001b[1;32m   1245\u001b[0m     \u001b[0mparallel\u001b[0m \u001b[0;34m=\u001b[0m \u001b[0mParallel\u001b[0m\u001b[0;34m(\u001b[0m\u001b[0mn_jobs\u001b[0m\u001b[0;34m=\u001b[0m\u001b[0mn_jobs\u001b[0m\u001b[0;34m,\u001b[0m \u001b[0mverbose\u001b[0m\u001b[0;34m=\u001b[0m\u001b[0mverbose\u001b[0m\u001b[0;34m,\u001b[0m \u001b[0mpre_dispatch\u001b[0m\u001b[0;34m=\u001b[0m\u001b[0mpre_dispatch\u001b[0m\u001b[0;34m)\u001b[0m\u001b[0;34m\u001b[0m\u001b[0;34m\u001b[0m\u001b[0m\n\u001b[0;32m-> 1246\u001b[0;31m     predictions = parallel(\n\u001b[0m\u001b[1;32m   1247\u001b[0m         delayed(_fit_and_predict)(\n\u001b[1;32m   1248\u001b[0m             \u001b[0mclone\u001b[0m\u001b[0;34m(\u001b[0m\u001b[0mestimator\u001b[0m\u001b[0;34m)\u001b[0m\u001b[0;34m,\u001b[0m\u001b[0;34m\u001b[0m\u001b[0;34m\u001b[0m\u001b[0m\n",
            "\u001b[0;32m/usr/local/lib/python3.10/dist-packages/sklearn/utils/parallel.py\u001b[0m in \u001b[0;36m__call__\u001b[0;34m(self, iterable)\u001b[0m\n\u001b[1;32m     75\u001b[0m             \u001b[0;32mfor\u001b[0m \u001b[0mdelayed_func\u001b[0m\u001b[0;34m,\u001b[0m \u001b[0margs\u001b[0m\u001b[0;34m,\u001b[0m \u001b[0mkwargs\u001b[0m \u001b[0;32min\u001b[0m \u001b[0miterable\u001b[0m\u001b[0;34m\u001b[0m\u001b[0;34m\u001b[0m\u001b[0m\n\u001b[1;32m     76\u001b[0m         )\n\u001b[0;32m---> 77\u001b[0;31m         \u001b[0;32mreturn\u001b[0m \u001b[0msuper\u001b[0m\u001b[0;34m(\u001b[0m\u001b[0;34m)\u001b[0m\u001b[0;34m.\u001b[0m\u001b[0m__call__\u001b[0m\u001b[0;34m(\u001b[0m\u001b[0miterable_with_config\u001b[0m\u001b[0;34m)\u001b[0m\u001b[0;34m\u001b[0m\u001b[0;34m\u001b[0m\u001b[0m\n\u001b[0m\u001b[1;32m     78\u001b[0m \u001b[0;34m\u001b[0m\u001b[0m\n\u001b[1;32m     79\u001b[0m \u001b[0;34m\u001b[0m\u001b[0m\n",
            "\u001b[0;32m/usr/local/lib/python3.10/dist-packages/joblib/parallel.py\u001b[0m in \u001b[0;36m__call__\u001b[0;34m(self, iterable)\u001b[0m\n\u001b[1;32m   1916\u001b[0m             \u001b[0moutput\u001b[0m \u001b[0;34m=\u001b[0m \u001b[0mself\u001b[0m\u001b[0;34m.\u001b[0m\u001b[0m_get_sequential_output\u001b[0m\u001b[0;34m(\u001b[0m\u001b[0miterable\u001b[0m\u001b[0;34m)\u001b[0m\u001b[0;34m\u001b[0m\u001b[0;34m\u001b[0m\u001b[0m\n\u001b[1;32m   1917\u001b[0m             \u001b[0mnext\u001b[0m\u001b[0;34m(\u001b[0m\u001b[0moutput\u001b[0m\u001b[0;34m)\u001b[0m\u001b[0;34m\u001b[0m\u001b[0;34m\u001b[0m\u001b[0m\n\u001b[0;32m-> 1918\u001b[0;31m             \u001b[0;32mreturn\u001b[0m \u001b[0moutput\u001b[0m \u001b[0;32mif\u001b[0m \u001b[0mself\u001b[0m\u001b[0;34m.\u001b[0m\u001b[0mreturn_generator\u001b[0m \u001b[0;32melse\u001b[0m \u001b[0mlist\u001b[0m\u001b[0;34m(\u001b[0m\u001b[0moutput\u001b[0m\u001b[0;34m)\u001b[0m\u001b[0;34m\u001b[0m\u001b[0;34m\u001b[0m\u001b[0m\n\u001b[0m\u001b[1;32m   1919\u001b[0m \u001b[0;34m\u001b[0m\u001b[0m\n\u001b[1;32m   1920\u001b[0m         \u001b[0;31m# Let's create an ID that uniquely identifies the current call. If the\u001b[0m\u001b[0;34m\u001b[0m\u001b[0;34m\u001b[0m\u001b[0m\n",
            "\u001b[0;32m/usr/local/lib/python3.10/dist-packages/joblib/parallel.py\u001b[0m in \u001b[0;36m_get_sequential_output\u001b[0;34m(self, iterable)\u001b[0m\n\u001b[1;32m   1845\u001b[0m                 \u001b[0mself\u001b[0m\u001b[0;34m.\u001b[0m\u001b[0mn_dispatched_batches\u001b[0m \u001b[0;34m+=\u001b[0m \u001b[0;36m1\u001b[0m\u001b[0;34m\u001b[0m\u001b[0;34m\u001b[0m\u001b[0m\n\u001b[1;32m   1846\u001b[0m                 \u001b[0mself\u001b[0m\u001b[0;34m.\u001b[0m\u001b[0mn_dispatched_tasks\u001b[0m \u001b[0;34m+=\u001b[0m \u001b[0;36m1\u001b[0m\u001b[0;34m\u001b[0m\u001b[0;34m\u001b[0m\u001b[0m\n\u001b[0;32m-> 1847\u001b[0;31m                 \u001b[0mres\u001b[0m \u001b[0;34m=\u001b[0m \u001b[0mfunc\u001b[0m\u001b[0;34m(\u001b[0m\u001b[0;34m*\u001b[0m\u001b[0margs\u001b[0m\u001b[0;34m,\u001b[0m \u001b[0;34m**\u001b[0m\u001b[0mkwargs\u001b[0m\u001b[0;34m)\u001b[0m\u001b[0;34m\u001b[0m\u001b[0;34m\u001b[0m\u001b[0m\n\u001b[0m\u001b[1;32m   1848\u001b[0m                 \u001b[0mself\u001b[0m\u001b[0;34m.\u001b[0m\u001b[0mn_completed_tasks\u001b[0m \u001b[0;34m+=\u001b[0m \u001b[0;36m1\u001b[0m\u001b[0;34m\u001b[0m\u001b[0;34m\u001b[0m\u001b[0m\n\u001b[1;32m   1849\u001b[0m                 \u001b[0mself\u001b[0m\u001b[0;34m.\u001b[0m\u001b[0mprint_progress\u001b[0m\u001b[0;34m(\u001b[0m\u001b[0;34m)\u001b[0m\u001b[0;34m\u001b[0m\u001b[0;34m\u001b[0m\u001b[0m\n",
            "\u001b[0;32m/usr/local/lib/python3.10/dist-packages/sklearn/utils/parallel.py\u001b[0m in \u001b[0;36m__call__\u001b[0;34m(self, *args, **kwargs)\u001b[0m\n\u001b[1;32m    137\u001b[0m             \u001b[0mconfig\u001b[0m \u001b[0;34m=\u001b[0m \u001b[0;34m{\u001b[0m\u001b[0;34m}\u001b[0m\u001b[0;34m\u001b[0m\u001b[0;34m\u001b[0m\u001b[0m\n\u001b[1;32m    138\u001b[0m         \u001b[0;32mwith\u001b[0m \u001b[0mconfig_context\u001b[0m\u001b[0;34m(\u001b[0m\u001b[0;34m**\u001b[0m\u001b[0mconfig\u001b[0m\u001b[0;34m)\u001b[0m\u001b[0;34m:\u001b[0m\u001b[0;34m\u001b[0m\u001b[0;34m\u001b[0m\u001b[0m\n\u001b[0;32m--> 139\u001b[0;31m             \u001b[0;32mreturn\u001b[0m \u001b[0mself\u001b[0m\u001b[0;34m.\u001b[0m\u001b[0mfunction\u001b[0m\u001b[0;34m(\u001b[0m\u001b[0;34m*\u001b[0m\u001b[0margs\u001b[0m\u001b[0;34m,\u001b[0m \u001b[0;34m**\u001b[0m\u001b[0mkwargs\u001b[0m\u001b[0;34m)\u001b[0m\u001b[0;34m\u001b[0m\u001b[0;34m\u001b[0m\u001b[0m\n\u001b[0m\u001b[1;32m    140\u001b[0m \u001b[0;34m\u001b[0m\u001b[0m\n\u001b[1;32m    141\u001b[0m \u001b[0;34m\u001b[0m\u001b[0m\n",
            "\u001b[0;32m/usr/local/lib/python3.10/dist-packages/sklearn/model_selection/_validation.py\u001b[0m in \u001b[0;36m_fit_and_predict\u001b[0;34m(estimator, X, y, train, test, fit_params, method)\u001b[0m\n\u001b[1;32m   1331\u001b[0m         \u001b[0mestimator\u001b[0m\u001b[0;34m.\u001b[0m\u001b[0mfit\u001b[0m\u001b[0;34m(\u001b[0m\u001b[0mX_train\u001b[0m\u001b[0;34m,\u001b[0m \u001b[0my_train\u001b[0m\u001b[0;34m,\u001b[0m \u001b[0;34m**\u001b[0m\u001b[0mfit_params\u001b[0m\u001b[0;34m)\u001b[0m\u001b[0;34m\u001b[0m\u001b[0;34m\u001b[0m\u001b[0m\n\u001b[1;32m   1332\u001b[0m     \u001b[0mfunc\u001b[0m \u001b[0;34m=\u001b[0m \u001b[0mgetattr\u001b[0m\u001b[0;34m(\u001b[0m\u001b[0mestimator\u001b[0m\u001b[0;34m,\u001b[0m \u001b[0mmethod\u001b[0m\u001b[0;34m)\u001b[0m\u001b[0;34m\u001b[0m\u001b[0;34m\u001b[0m\u001b[0m\n\u001b[0;32m-> 1333\u001b[0;31m     \u001b[0mpredictions\u001b[0m \u001b[0;34m=\u001b[0m \u001b[0mfunc\u001b[0m\u001b[0;34m(\u001b[0m\u001b[0mX_test\u001b[0m\u001b[0;34m)\u001b[0m\u001b[0;34m\u001b[0m\u001b[0;34m\u001b[0m\u001b[0m\n\u001b[0m\u001b[1;32m   1334\u001b[0m \u001b[0;34m\u001b[0m\u001b[0m\n\u001b[1;32m   1335\u001b[0m     encode = (\n",
            "\u001b[0;32m/usr/local/lib/python3.10/dist-packages/sklearn/pipeline.py\u001b[0m in \u001b[0;36mpredict\u001b[0;34m(self, X, **params)\u001b[0m\n\u001b[1;32m    778\u001b[0m         \"\"\"\n\u001b[1;32m    779\u001b[0m         \u001b[0;31m# TODO(1.8): Remove the context manager and use check_is_fitted(self)\u001b[0m\u001b[0;34m\u001b[0m\u001b[0;34m\u001b[0m\u001b[0m\n\u001b[0;32m--> 780\u001b[0;31m         \u001b[0;32mwith\u001b[0m \u001b[0m_raise_or_warn_if_not_fitted\u001b[0m\u001b[0;34m(\u001b[0m\u001b[0mself\u001b[0m\u001b[0;34m)\u001b[0m\u001b[0;34m:\u001b[0m\u001b[0;34m\u001b[0m\u001b[0;34m\u001b[0m\u001b[0m\n\u001b[0m\u001b[1;32m    781\u001b[0m             \u001b[0mXt\u001b[0m \u001b[0;34m=\u001b[0m \u001b[0mX\u001b[0m\u001b[0;34m\u001b[0m\u001b[0;34m\u001b[0m\u001b[0m\n\u001b[1;32m    782\u001b[0m \u001b[0;34m\u001b[0m\u001b[0m\n",
            "\u001b[0;32m/usr/lib/python3.10/contextlib.py\u001b[0m in \u001b[0;36m__exit__\u001b[0;34m(self, typ, value, traceback)\u001b[0m\n\u001b[1;32m    140\u001b[0m         \u001b[0;32mif\u001b[0m \u001b[0mtyp\u001b[0m \u001b[0;32mis\u001b[0m \u001b[0;32mNone\u001b[0m\u001b[0;34m:\u001b[0m\u001b[0;34m\u001b[0m\u001b[0;34m\u001b[0m\u001b[0m\n\u001b[1;32m    141\u001b[0m             \u001b[0;32mtry\u001b[0m\u001b[0;34m:\u001b[0m\u001b[0;34m\u001b[0m\u001b[0;34m\u001b[0m\u001b[0m\n\u001b[0;32m--> 142\u001b[0;31m                 \u001b[0mnext\u001b[0m\u001b[0;34m(\u001b[0m\u001b[0mself\u001b[0m\u001b[0;34m.\u001b[0m\u001b[0mgen\u001b[0m\u001b[0;34m)\u001b[0m\u001b[0;34m\u001b[0m\u001b[0;34m\u001b[0m\u001b[0m\n\u001b[0m\u001b[1;32m    143\u001b[0m             \u001b[0;32mexcept\u001b[0m \u001b[0mStopIteration\u001b[0m\u001b[0;34m:\u001b[0m\u001b[0;34m\u001b[0m\u001b[0;34m\u001b[0m\u001b[0m\n\u001b[1;32m    144\u001b[0m                 \u001b[0;32mreturn\u001b[0m \u001b[0;32mFalse\u001b[0m\u001b[0;34m\u001b[0m\u001b[0;34m\u001b[0m\u001b[0m\n",
            "\u001b[0;32m/usr/local/lib/python3.10/dist-packages/sklearn/pipeline.py\u001b[0m in \u001b[0;36m_raise_or_warn_if_not_fitted\u001b[0;34m(estimator)\u001b[0m\n\u001b[1;32m     58\u001b[0m     \u001b[0;31m# we only get here if the above didn't raise\u001b[0m\u001b[0;34m\u001b[0m\u001b[0;34m\u001b[0m\u001b[0m\n\u001b[1;32m     59\u001b[0m     \u001b[0;32mtry\u001b[0m\u001b[0;34m:\u001b[0m\u001b[0;34m\u001b[0m\u001b[0;34m\u001b[0m\u001b[0m\n\u001b[0;32m---> 60\u001b[0;31m         \u001b[0mcheck_is_fitted\u001b[0m\u001b[0;34m(\u001b[0m\u001b[0mestimator\u001b[0m\u001b[0;34m)\u001b[0m\u001b[0;34m\u001b[0m\u001b[0;34m\u001b[0m\u001b[0m\n\u001b[0m\u001b[1;32m     61\u001b[0m     \u001b[0;32mexcept\u001b[0m \u001b[0mNotFittedError\u001b[0m\u001b[0;34m:\u001b[0m\u001b[0;34m\u001b[0m\u001b[0;34m\u001b[0m\u001b[0m\n\u001b[1;32m     62\u001b[0m         warnings.warn(\n",
            "\u001b[0;32m/usr/local/lib/python3.10/dist-packages/sklearn/utils/validation.py\u001b[0m in \u001b[0;36mcheck_is_fitted\u001b[0;34m(estimator, attributes, msg, all_or_any)\u001b[0m\n\u001b[1;32m   1754\u001b[0m         \u001b[0;32mreturn\u001b[0m\u001b[0;34m\u001b[0m\u001b[0;34m\u001b[0m\u001b[0m\n\u001b[1;32m   1755\u001b[0m \u001b[0;34m\u001b[0m\u001b[0m\n\u001b[0;32m-> 1756\u001b[0;31m     \u001b[0;32mif\u001b[0m \u001b[0;32mnot\u001b[0m \u001b[0m_is_fitted\u001b[0m\u001b[0;34m(\u001b[0m\u001b[0mestimator\u001b[0m\u001b[0;34m,\u001b[0m \u001b[0mattributes\u001b[0m\u001b[0;34m,\u001b[0m \u001b[0mall_or_any\u001b[0m\u001b[0;34m)\u001b[0m\u001b[0;34m:\u001b[0m\u001b[0;34m\u001b[0m\u001b[0;34m\u001b[0m\u001b[0m\n\u001b[0m\u001b[1;32m   1757\u001b[0m         \u001b[0;32mraise\u001b[0m \u001b[0mNotFittedError\u001b[0m\u001b[0;34m(\u001b[0m\u001b[0mmsg\u001b[0m \u001b[0;34m%\u001b[0m \u001b[0;34m{\u001b[0m\u001b[0;34m\"name\"\u001b[0m\u001b[0;34m:\u001b[0m \u001b[0mtype\u001b[0m\u001b[0;34m(\u001b[0m\u001b[0mestimator\u001b[0m\u001b[0;34m)\u001b[0m\u001b[0;34m.\u001b[0m\u001b[0m__name__\u001b[0m\u001b[0;34m}\u001b[0m\u001b[0;34m)\u001b[0m\u001b[0;34m\u001b[0m\u001b[0;34m\u001b[0m\u001b[0m\n\u001b[1;32m   1758\u001b[0m \u001b[0;34m\u001b[0m\u001b[0m\n",
            "\u001b[0;32m/usr/local/lib/python3.10/dist-packages/sklearn/utils/validation.py\u001b[0m in \u001b[0;36m_is_fitted\u001b[0;34m(estimator, attributes, all_or_any)\u001b[0m\n\u001b[1;32m   1663\u001b[0m \u001b[0;34m\u001b[0m\u001b[0m\n\u001b[1;32m   1664\u001b[0m     \u001b[0;32mif\u001b[0m \u001b[0mhasattr\u001b[0m\u001b[0;34m(\u001b[0m\u001b[0mestimator\u001b[0m\u001b[0;34m,\u001b[0m \u001b[0;34m\"__sklearn_is_fitted__\"\u001b[0m\u001b[0;34m)\u001b[0m\u001b[0;34m:\u001b[0m\u001b[0;34m\u001b[0m\u001b[0;34m\u001b[0m\u001b[0m\n\u001b[0;32m-> 1665\u001b[0;31m         \u001b[0;32mreturn\u001b[0m \u001b[0mestimator\u001b[0m\u001b[0;34m.\u001b[0m\u001b[0m__sklearn_is_fitted__\u001b[0m\u001b[0;34m(\u001b[0m\u001b[0;34m)\u001b[0m\u001b[0;34m\u001b[0m\u001b[0;34m\u001b[0m\u001b[0m\n\u001b[0m\u001b[1;32m   1666\u001b[0m \u001b[0;34m\u001b[0m\u001b[0m\n\u001b[1;32m   1667\u001b[0m     fitted_attrs = [\n",
            "\u001b[0;32m/usr/local/lib/python3.10/dist-packages/sklearn/pipeline.py\u001b[0m in \u001b[0;36m__sklearn_is_fitted__\u001b[0;34m(self)\u001b[0m\n\u001b[1;32m   1308\u001b[0m             \u001b[0;31m# means the previous steps should also be fit. This is faster than\u001b[0m\u001b[0;34m\u001b[0m\u001b[0;34m\u001b[0m\u001b[0m\n\u001b[1;32m   1309\u001b[0m             \u001b[0;31m# checking if every step of the pipeline is fit.\u001b[0m\u001b[0;34m\u001b[0m\u001b[0;34m\u001b[0m\u001b[0m\n\u001b[0;32m-> 1310\u001b[0;31m             \u001b[0mcheck_is_fitted\u001b[0m\u001b[0;34m(\u001b[0m\u001b[0mlast_step\u001b[0m\u001b[0;34m)\u001b[0m\u001b[0;34m\u001b[0m\u001b[0;34m\u001b[0m\u001b[0m\n\u001b[0m\u001b[1;32m   1311\u001b[0m             \u001b[0;32mreturn\u001b[0m \u001b[0;32mTrue\u001b[0m\u001b[0;34m\u001b[0m\u001b[0;34m\u001b[0m\u001b[0m\n\u001b[1;32m   1312\u001b[0m         \u001b[0;32mexcept\u001b[0m \u001b[0mNotFittedError\u001b[0m\u001b[0;34m:\u001b[0m\u001b[0;34m\u001b[0m\u001b[0;34m\u001b[0m\u001b[0m\n",
            "\u001b[0;32m/usr/local/lib/python3.10/dist-packages/sklearn/utils/validation.py\u001b[0m in \u001b[0;36mcheck_is_fitted\u001b[0;34m(estimator, attributes, msg, all_or_any)\u001b[0m\n\u001b[1;32m   1749\u001b[0m         \u001b[0;32mraise\u001b[0m \u001b[0mTypeError\u001b[0m\u001b[0;34m(\u001b[0m\u001b[0;34m\"%s is not an estimator instance.\"\u001b[0m \u001b[0;34m%\u001b[0m \u001b[0;34m(\u001b[0m\u001b[0mestimator\u001b[0m\u001b[0;34m)\u001b[0m\u001b[0;34m)\u001b[0m\u001b[0;34m\u001b[0m\u001b[0;34m\u001b[0m\u001b[0m\n\u001b[1;32m   1750\u001b[0m \u001b[0;34m\u001b[0m\u001b[0m\n\u001b[0;32m-> 1751\u001b[0;31m     \u001b[0mtags\u001b[0m \u001b[0;34m=\u001b[0m \u001b[0mget_tags\u001b[0m\u001b[0;34m(\u001b[0m\u001b[0mestimator\u001b[0m\u001b[0;34m)\u001b[0m\u001b[0;34m\u001b[0m\u001b[0;34m\u001b[0m\u001b[0m\n\u001b[0m\u001b[1;32m   1752\u001b[0m \u001b[0;34m\u001b[0m\u001b[0m\n\u001b[1;32m   1753\u001b[0m     \u001b[0;32mif\u001b[0m \u001b[0;32mnot\u001b[0m \u001b[0mtags\u001b[0m\u001b[0;34m.\u001b[0m\u001b[0mrequires_fit\u001b[0m \u001b[0;32mand\u001b[0m \u001b[0mattributes\u001b[0m \u001b[0;32mis\u001b[0m \u001b[0;32mNone\u001b[0m\u001b[0;34m:\u001b[0m\u001b[0;34m\u001b[0m\u001b[0;34m\u001b[0m\u001b[0m\n",
            "\u001b[0;32m/usr/local/lib/python3.10/dist-packages/sklearn/utils/_tags.py\u001b[0m in \u001b[0;36mget_tags\u001b[0;34m(estimator)\u001b[0m\n\u001b[1;32m    403\u001b[0m         \u001b[0;32mfor\u001b[0m \u001b[0mklass\u001b[0m \u001b[0;32min\u001b[0m \u001b[0mreversed\u001b[0m\u001b[0;34m(\u001b[0m\u001b[0mtype\u001b[0m\u001b[0;34m(\u001b[0m\u001b[0mestimator\u001b[0m\u001b[0;34m)\u001b[0m\u001b[0;34m.\u001b[0m\u001b[0mmro\u001b[0m\u001b[0;34m(\u001b[0m\u001b[0;34m)\u001b[0m\u001b[0;34m)\u001b[0m\u001b[0;34m:\u001b[0m\u001b[0;34m\u001b[0m\u001b[0;34m\u001b[0m\u001b[0m\n\u001b[1;32m    404\u001b[0m             \u001b[0;32mif\u001b[0m \u001b[0;34m\"__sklearn_tags__\"\u001b[0m \u001b[0;32min\u001b[0m \u001b[0mvars\u001b[0m\u001b[0;34m(\u001b[0m\u001b[0mklass\u001b[0m\u001b[0;34m)\u001b[0m\u001b[0;34m:\u001b[0m\u001b[0;34m\u001b[0m\u001b[0;34m\u001b[0m\u001b[0m\n\u001b[0;32m--> 405\u001b[0;31m                 \u001b[0msklearn_tags_provider\u001b[0m\u001b[0;34m[\u001b[0m\u001b[0mklass\u001b[0m\u001b[0;34m]\u001b[0m \u001b[0;34m=\u001b[0m \u001b[0mklass\u001b[0m\u001b[0;34m.\u001b[0m\u001b[0m__sklearn_tags__\u001b[0m\u001b[0;34m(\u001b[0m\u001b[0mestimator\u001b[0m\u001b[0;34m)\u001b[0m  \u001b[0;31m# type: ignore[attr-defined]\u001b[0m\u001b[0;34m\u001b[0m\u001b[0;34m\u001b[0m\u001b[0m\n\u001b[0m\u001b[1;32m    406\u001b[0m                 \u001b[0mclass_order\u001b[0m\u001b[0;34m.\u001b[0m\u001b[0mappend\u001b[0m\u001b[0;34m(\u001b[0m\u001b[0mklass\u001b[0m\u001b[0;34m)\u001b[0m\u001b[0;34m\u001b[0m\u001b[0;34m\u001b[0m\u001b[0m\n\u001b[1;32m    407\u001b[0m             \u001b[0;32melif\u001b[0m \u001b[0;34m\"_more_tags\"\u001b[0m \u001b[0;32min\u001b[0m \u001b[0mvars\u001b[0m\u001b[0;34m(\u001b[0m\u001b[0mklass\u001b[0m\u001b[0;34m)\u001b[0m\u001b[0;34m:\u001b[0m\u001b[0;34m\u001b[0m\u001b[0;34m\u001b[0m\u001b[0m\n",
            "\u001b[0;32m/usr/local/lib/python3.10/dist-packages/sklearn/base.py\u001b[0m in \u001b[0;36m__sklearn_tags__\u001b[0;34m(self)\u001b[0m\n\u001b[1;32m    538\u001b[0m \u001b[0;34m\u001b[0m\u001b[0m\n\u001b[1;32m    539\u001b[0m     \u001b[0;32mdef\u001b[0m \u001b[0m__sklearn_tags__\u001b[0m\u001b[0;34m(\u001b[0m\u001b[0mself\u001b[0m\u001b[0;34m)\u001b[0m\u001b[0;34m:\u001b[0m\u001b[0;34m\u001b[0m\u001b[0;34m\u001b[0m\u001b[0m\n\u001b[0;32m--> 540\u001b[0;31m         \u001b[0mtags\u001b[0m \u001b[0;34m=\u001b[0m \u001b[0msuper\u001b[0m\u001b[0;34m(\u001b[0m\u001b[0;34m)\u001b[0m\u001b[0;34m.\u001b[0m\u001b[0m__sklearn_tags__\u001b[0m\u001b[0;34m(\u001b[0m\u001b[0;34m)\u001b[0m\u001b[0;34m\u001b[0m\u001b[0;34m\u001b[0m\u001b[0m\n\u001b[0m\u001b[1;32m    541\u001b[0m         \u001b[0mtags\u001b[0m\u001b[0;34m.\u001b[0m\u001b[0mestimator_type\u001b[0m \u001b[0;34m=\u001b[0m \u001b[0;34m\"classifier\"\u001b[0m\u001b[0;34m\u001b[0m\u001b[0;34m\u001b[0m\u001b[0m\n\u001b[1;32m    542\u001b[0m         \u001b[0mtags\u001b[0m\u001b[0;34m.\u001b[0m\u001b[0mclassifier_tags\u001b[0m \u001b[0;34m=\u001b[0m \u001b[0mClassifierTags\u001b[0m\u001b[0;34m(\u001b[0m\u001b[0;34m)\u001b[0m\u001b[0;34m\u001b[0m\u001b[0;34m\u001b[0m\u001b[0m\n",
            "\u001b[0;31mAttributeError\u001b[0m: 'super' object has no attribute '__sklearn_tags__'"
          ]
        }
      ],
      "source": [
        "from sklearn.linear_model import RidgeClassifier\n",
        "from sklearn.ensemble import RandomForestClassifier\n",
        "from xgboost import XGBClassifier  # Make sure xgboost is installed: `pip install xgboost`\n",
        "\n",
        "# Initialize classifiers\n",
        "classifiers = {\n",
        "    \"LogisticRegression\": LogisticRegression(random_state=42, max_iter=1000),\n",
        "    \"RidgeClassifier\": RidgeClassifier(random_state=42),\n",
        "    \"RandomForestClassifier\": RandomForestClassifier(random_state=42, n_estimators=100),\n",
        "    \"XGBClassifier\": XGBClassifier(random_state=42, use_label_encoder=False, eval_metric=\"logloss\")\n",
        "}\n",
        "\n",
        "# Cross-validation setup\n",
        "cv = StratifiedKFold(n_splits=3, shuffle=True, random_state=42)\n",
        "\n",
        "# Experiment 2: Iterate over classifiers\n",
        "for name, clf in classifiers.items():\n",
        "    with mlflow.start_run(run_name=f\"Experiment_2_{name}\"):\n",
        "        pipeline = Pipeline([\n",
        "            (\"scaler\", StandardScaler()),\n",
        "            (\"classifier\", clf)\n",
        "        ])\n",
        "\n",
        "        # Cross-validation F1-scores\n",
        "        f1_scores = cross_val_score(pipeline, X_train_scaled, y_train, cv=cv, scoring=make_scorer(f1_score))\n",
        "        y_pred_cv = cross_val_predict(pipeline, X_train_scaled, y_train, cv=cv)\n",
        "\n",
        "        # Confusion matrix components\n",
        "        tn, fp, fn, tp = confusion_matrix(y_train, y_pred_cv).ravel()\n",
        "\n",
        "        # Log metrics to MLFlow\n",
        "        mlflow.log_param(\"classifier\", name)\n",
        "        mlflow.log_metric(\"F1_Score_Mean\", np.mean(f1_scores))\n",
        "        mlflow.log_metric(\"F1_Score_Std\", np.std(f1_scores))\n",
        "        mlflow.log_metric(\"True_Negatives\", tn)\n",
        "        mlflow.log_metric(\"False_Positives\", fp)\n",
        "        mlflow.log_metric(\"False_Negatives\", fn)\n",
        "        mlflow.log_metric(\"True_Positives\", tp)\n",
        "\n",
        "        print(f\"Classifier: {name}\")\n",
        "        print(f\"F1-Score (mean): {np.mean(f1_scores)}\")\n",
        "        print(f\"F1-Score (std): {np.std(f1_scores)}\")\n",
        "        print(f\"Confusion Matrix: TN={tn}, FP={fp}, FN={fn}, TP={tp}\")\n"
      ]
    },
    {
      "cell_type": "markdown",
      "metadata": {
        "id": "vW4Uwrr49nMy"
      },
      "source": [
        "# Experiment 3"
      ]
    },
    {
      "cell_type": "code",
      "execution_count": null,
      "metadata": {
        "colab": {
          "base_uri": "https://localhost:8080/"
        },
        "id": "ecCLZ-nUhgVP",
        "outputId": "19b4e2e6-bca1-477b-d4c0-bf2b7e785f73"
      },
      "outputs": [
        {
          "name": "stdout",
          "output_type": "stream",
          "text": [
            "Experiment 3 - Feature Engineering\n",
            "F1-Score (mean): 0.9703961230509903\n",
            "F1-Score (std): 0.015083357159655338\n",
            "Confusion Matrix: TN=281, FP=4, FN=6, TP=164\n",
            "🏃 View run Experiment_3_Feature_Engineering at: https://dagshub.com/abhyudhaysr/my-first-repo.mlflow/#/experiments/0/runs/00f7bbd1c24a4a2388c4efb2a2c60d0a\n",
            "🧪 View experiment at: https://dagshub.com/abhyudhaysr/my-first-repo.mlflow/#/experiments/0\n"
          ]
        }
      ],
      "source": [
        "from sklearn.pipeline import Pipeline\n",
        "from sklearn.preprocessing import FunctionTransformer\n",
        "from sklearn.model_selection import cross_val_score, cross_val_predict, StratifiedKFold\n",
        "from sklearn.metrics import f1_score, confusion_matrix, make_scorer\n",
        "import mlflow\n",
        "import numpy as np\n",
        "\n",
        "# Feature engineering function\n",
        "def feature_engineering(X):\n",
        "    X = X.copy()  # Avoid modifying the original DataFrame\n",
        "    # Example feature combinations\n",
        "    X[\"Feature_1_div_Feature_2\"] = X[\"Feature_1\"] / (X[\"Feature_2\"] + 1e-5)  # Avoid division by zero\n",
        "    X[\"Feature_3_times_Feature_4\"] = X[\"Feature_3\"] * X[\"Feature_4\"]\n",
        "    X[\"Feature_5_plus_Feature_6\"] = X[\"Feature_5\"] + X[\"Feature_6\"]\n",
        "    return X\n",
        "\n",
        "# Apply feature engineering to training and testing sets\n",
        "X_train_engineered = feature_engineering(X_train)\n",
        "X_test_engineered = feature_engineering(X_test)\n",
        "\n",
        "# Initialize pipeline\n",
        "pipeline = Pipeline([\n",
        "    (\"scaler\", StandardScaler()),\n",
        "    (\"log_reg\", LogisticRegression(random_state=42, max_iter=1000))\n",
        "])\n",
        "\n",
        "# Cross-validation setup\n",
        "cv = StratifiedKFold(n_splits=3, shuffle=True, random_state=42)\n",
        "\n",
        "# Train and evaluate with engineered features\n",
        "with mlflow.start_run(run_name=\"Experiment_3_Feature_Engineering\"):\n",
        "    # Cross-validation F1-scores\n",
        "    f1_scores = cross_val_score(pipeline, X_train_engineered, y_train, cv=cv, scoring=make_scorer(f1_score))\n",
        "    y_pred_cv = cross_val_predict(pipeline, X_train_engineered, y_train, cv=cv)\n",
        "\n",
        "    # Confusion matrix components\n",
        "    tn, fp, fn, tp = confusion_matrix(y_train, y_pred_cv).ravel()\n",
        "\n",
        "    # Log metrics to MLFlow\n",
        "    mlflow.log_metric(\"F1_Score_Mean\", np.mean(f1_scores))\n",
        "    mlflow.log_metric(\"F1_Score_Std\", np.std(f1_scores))\n",
        "    mlflow.log_metric(\"True_Negatives\", tn)\n",
        "    mlflow.log_metric(\"False_Positives\", fp)\n",
        "    mlflow.log_metric(\"False_Negatives\", fn)\n",
        "    mlflow.log_metric(\"True_Positives\", tp)\n",
        "\n",
        "    print(\"Experiment 3 - Feature Engineering\")\n",
        "    print(f\"F1-Score (mean): {np.mean(f1_scores)}\")\n",
        "    print(f\"F1-Score (std): {np.std(f1_scores)}\")\n",
        "    print(f\"Confusion Matrix: TN={tn}, FP={fp}, FN={fn}, TP={tp}\")\n"
      ]
    },
    {
      "cell_type": "markdown",
      "metadata": {
        "id": "gTR4v5GN9ouC"
      },
      "source": [
        "# Experiment 4"
      ]
    },
    {
      "cell_type": "code",
      "execution_count": null,
      "metadata": {
        "colab": {
          "base_uri": "https://localhost:8080/"
        },
        "id": "zQicvt0UlRoK",
        "outputId": "6eb0d9ab-c904-4644-dd5e-8ee4b02756b2"
      },
      "outputs": [
        {
          "name": "stdout",
          "output_type": "stream",
          "text": [
            "Dropped features due to high correlation: ['Feature_3', 'Feature_4', 'Feature_8', 'Feature_13', 'Feature_14', 'Feature_21', 'Feature_22', 'Feature_23', 'Feature_24', 'Feature_28']\n",
            "Selected features based on importance: Index(['Feature_1', 'Feature_2', 'Feature_5', 'Feature_6', 'Feature_7',\n",
            "       'Feature_9', 'Feature_10', 'Feature_11', 'Feature_15', 'Feature_16',\n",
            "       'Feature_17', 'Feature_18', 'Feature_19', 'Feature_20', 'Feature_25',\n",
            "       'Feature_26', 'Feature_27', 'Feature_29'],\n",
            "      dtype='object')\n",
            "Final selected features after variance threshold: ['Feature_1', 'Feature_2', 'Feature_11', 'Feature_26', 'Feature_27']\n",
            "Experiment 4 - Feature Selection\n",
            "F1-Score (mean): 0.908004754920288\n",
            "F1-Score (std): 0.020683984606562605\n",
            "Confusion Matrix: TN=272, FP=13, FN=18, TP=152\n",
            "Selected Features: ['Feature_1', 'Feature_2', 'Feature_11', 'Feature_26', 'Feature_27']\n",
            "🏃 View run Experiment_4_Feature_Selection at: https://dagshub.com/abhyudhaysr/my-first-repo.mlflow/#/experiments/0/runs/6819bfbc1f6a4efe8b7d4bb61fadefa6\n",
            "🧪 View experiment at: https://dagshub.com/abhyudhaysr/my-first-repo.mlflow/#/experiments/0\n"
          ]
        }
      ],
      "source": [
        "from sklearn.feature_selection import VarianceThreshold\n",
        "from sklearn.ensemble import RandomForestClassifier\n",
        "import numpy as np\n",
        "import mlflow\n",
        "\n",
        "# 1. Correlation Threshold\n",
        "def remove_highly_correlated_features(data, threshold=0.9):\n",
        "    corr_matrix = data.corr().abs()\n",
        "    upper_triangle = corr_matrix.where(np.triu(np.ones(corr_matrix.shape), k=1).astype(bool))\n",
        "    to_drop = [column for column in upper_triangle.columns if any(upper_triangle[column] > threshold)]\n",
        "    return data.drop(columns=to_drop), to_drop\n",
        "\n",
        "# Remove highly correlated features\n",
        "X_train_corr, dropped_corr_features = remove_highly_correlated_features(X_train, threshold=0.9)\n",
        "X_test_corr = X_test[X_train_corr.columns]  # Align test set columns with selected features\n",
        "\n",
        "print(f\"Dropped features due to high correlation: {dropped_corr_features}\")\n",
        "\n",
        "# 2. Feature Importance\n",
        "def select_important_features(X, y, model, threshold=0.01):\n",
        "    model.fit(X, y)\n",
        "    importances = model.feature_importances_\n",
        "    selected_features = X.columns[importances > threshold]\n",
        "    return X[selected_features], selected_features, importances\n",
        "\n",
        "# Use RandomForest for feature importance\n",
        "rf = RandomForestClassifier(random_state=42, n_estimators=100)\n",
        "X_train_importance, selected_features_importance, feature_importances = select_important_features(\n",
        "    X_train_corr, y_train, rf, threshold=0.01\n",
        ")\n",
        "X_test_importance = X_test_corr[selected_features_importance]  # Align test set columns\n",
        "\n",
        "print(f\"Selected features based on importance: {selected_features_importance}\")\n",
        "\n",
        "# 3. Variance Threshold\n",
        "var_thresh = VarianceThreshold(threshold=0.01)  # Threshold is variance\n",
        "X_train_final = var_thresh.fit_transform(X_train_importance)\n",
        "X_test_final = var_thresh.transform(X_test_importance)\n",
        "\n",
        "# Convert back to DataFrame\n",
        "X_train_final = pd.DataFrame(X_train_final, columns=X_train_importance.columns[var_thresh.get_support()])\n",
        "X_test_final = pd.DataFrame(X_test_final, columns=X_train_importance.columns[var_thresh.get_support()])\n",
        "\n",
        "print(f\"Final selected features after variance threshold: {X_train_final.columns.tolist()}\")\n",
        "\n",
        "# 4. Train Model with Selected Features\n",
        "pipeline = Pipeline([\n",
        "    (\"scaler\", StandardScaler()),\n",
        "    (\"log_reg\", LogisticRegression(random_state=42, max_iter=1000))\n",
        "])\n",
        "\n",
        "cv = StratifiedKFold(n_splits=3, shuffle=True, random_state=42)\n",
        "\n",
        "with mlflow.start_run(run_name=\"Experiment_4_Feature_Selection\"):\n",
        "    # Cross-validation F1-scores\n",
        "    f1_scores = cross_val_score(pipeline, X_train_final, y_train, cv=cv, scoring=make_scorer(f1_score))\n",
        "    y_pred_cv = cross_val_predict(pipeline, X_train_final, y_train, cv=cv)\n",
        "\n",
        "    # Confusion matrix components\n",
        "    tn, fp, fn, tp = confusion_matrix(y_train, y_pred_cv).ravel()\n",
        "\n",
        "    # Log metrics to MLFlow\n",
        "    mlflow.log_metric(\"F1_Score_Mean\", np.mean(f1_scores))\n",
        "    mlflow.log_metric(\"F1_Score_Std\", np.std(f1_scores))\n",
        "    mlflow.log_metric(\"True_Negatives\", tn)\n",
        "    mlflow.log_metric(\"False_Positives\", fp)\n",
        "    mlflow.log_metric(\"False_Negatives\", fn)\n",
        "    mlflow.log_metric(\"True_Positives\", tp)\n",
        "\n",
        "    # Log the selected features\n",
        "    mlflow.log_param(\"Selected_Features\", X_train_final.columns.tolist())\n",
        "\n",
        "    print(\"Experiment 4 - Feature Selection\")\n",
        "    print(f\"F1-Score (mean): {np.mean(f1_scores)}\")\n",
        "    print(f\"F1-Score (std): {np.std(f1_scores)}\")\n",
        "    print(f\"Confusion Matrix: TN={tn}, FP={fp}, FN={fn}, TP={tp}\")\n",
        "    print(f\"Selected Features: {X_train_final.columns.tolist()}\")\n"
      ]
    },
    {
      "cell_type": "markdown",
      "metadata": {
        "id": "o0zLBAl29qXq"
      },
      "source": [
        "# Experiment 5"
      ]
    },
    {
      "cell_type": "code",
      "execution_count": null,
      "metadata": {
        "colab": {
          "base_uri": "https://localhost:8080/",
          "height": 653
        },
        "id": "NsHm_xWUpFG4",
        "outputId": "54ee4906-00af-4187-c139-9a7e692296e2"
      },
      "outputs": [
        {
          "data": {
            "image/png": "[encoded data removed]",
            "text/plain": [
              "<Figure size 800x600 with 1 Axes>"
            ]
          },
          "metadata": {},
          "output_type": "display_data"
        },
        {
          "name": "stdout",
          "output_type": "stream",
          "text": [
            "Number of Components Chosen for 90% Variance: 7\n",
            "Mean Explained Variance Ratio: 0.03333333333333333\n",
            "Cumulative Variance for 90%: 0.9114245416254098\n",
            "🏃 View run Experiment_5_PCA at: https://dagshub.com/abhyudhaysr/my-first-repo.mlflow/#/experiments/0/runs/8a225e838e3043fc8e6fc83cf50da438\n",
            "🧪 View experiment at: https://dagshub.com/abhyudhaysr/my-first-repo.mlflow/#/experiments/0\n"
          ]
        }
      ],
      "source": [
        "from sklearn.decomposition import PCA\n",
        "import matplotlib.pyplot as plt\n",
        "import numpy as np\n",
        "import mlflow\n",
        "\n",
        "# Step 1: Apply PCA\n",
        "pca = PCA()\n",
        "X_train_pca = pca.fit_transform(X_train_scaled)  # Apply PCA to the scaled training data\n",
        "\n",
        "# Step 2: Create Scree Plot\n",
        "explained_variance = pca.explained_variance_ratio_  # Variance explained by each component\n",
        "cumulative_variance = np.cumsum(explained_variance)  # Cumulative variance\n",
        "\n",
        "plt.figure(figsize=(8, 6))\n",
        "plt.plot(range(1, len(explained_variance) + 1), cumulative_variance, marker='o', linestyle='--')\n",
        "plt.title(\"Scree Plot\")\n",
        "plt.xlabel(\"Number of Components\")\n",
        "plt.ylabel(\"Cumulative Explained Variance\")\n",
        "plt.grid(True)\n",
        "plt.show()\n",
        "\n",
        "# Step 3: Log PCA Results in MLFlow\n",
        "with mlflow.start_run(run_name=\"Experiment_5_PCA\"):\n",
        "    mlflow.log_metric(\"Explained_Variance_Ratio\", np.mean(explained_variance))  # Log mean explained variance\n",
        "    mlflow.log_metric(\"Cumulative_Variance_Threshold_90\", cumulative_variance[np.argmax(cumulative_variance >= 0.90)])  # Log number of components for 90% variance\n",
        "    mlflow.log_param(\"Components_Used\", np.argmax(cumulative_variance >= 0.90) + 1)  # Number of components chosen for classification\n",
        "\n",
        "    print(f\"Number of Components Chosen for 90% Variance: {np.argmax(cumulative_variance >= 0.90) + 1}\")\n",
        "    print(f\"Mean Explained Variance Ratio: {np.mean(explained_variance)}\")\n",
        "    print(f\"Cumulative Variance for 90%: {cumulative_variance[np.argmax(cumulative_variance >= 0.90)]}\")\n"
      ]
    },
    {
      "cell_type": "markdown",
      "metadata": {
        "id": "507KVW5P9sp9"
      },
      "source": [
        "# Experiment 6"
      ]
    },
    {
      "cell_type": "code",
      "execution_count": null,
      "metadata": {
        "colab": {
          "base_uri": "https://localhost:8080/"
        },
        "id": "-xAtIfZiCRoA",
        "outputId": "568b5b36-aa58-4531-893b-66a0214117ff"
      },
      "outputs": [
        {
          "name": "stdout",
          "output_type": "stream",
          "text": [
            "Experiment 6 - Polynomial Features\n",
            "F1-Score (mean): 0.9340367562844628\n",
            "F1-Score (std): 0.027387003695797302\n",
            "Confusion Matrix: TN=278, FP=7, FN=15, TP=155\n",
            "🏃 View run Experiment_6_Polynomial_Features at: https://dagshub.com/abhyudhaysr/my-first-repo.mlflow/#/experiments/0/runs/7427f1549be84cd6b6fb9ecedd477321\n",
            "🧪 View experiment at: https://dagshub.com/abhyudhaysr/my-first-repo.mlflow/#/experiments/0\n"
          ]
        }
      ],
      "source": [
        "from sklearn.preprocessing import PolynomialFeatures\n",
        "\n",
        "# Generate Polynomial Features\n",
        "poly = PolynomialFeatures(degree=2, include_bias=False)  # Create interaction and squared terms\n",
        "X_train_poly = poly.fit_transform(X_train_scaled)\n",
        "X_test_poly = poly.transform(X_test_scaled)\n",
        "\n",
        "# Train Logistic Regression with Polynomial Features\n",
        "pipeline = Pipeline([\n",
        "    (\"scaler\", StandardScaler()),  # Scaling already handled\n",
        "    (\"log_reg\", LogisticRegression(random_state=42, max_iter=1000))\n",
        "])\n",
        "\n",
        "cv = StratifiedKFold(n_splits=3, shuffle=True, random_state=42)\n",
        "\n",
        "with mlflow.start_run(run_name=\"Experiment_6_Polynomial_Features\"):\n",
        "    # Cross-validation F1-scores\n",
        "    f1_scores = cross_val_score(pipeline, X_train_poly, y_train, cv=cv, scoring=make_scorer(f1_score))\n",
        "    y_pred_cv = cross_val_predict(pipeline, X_train_poly, y_train, cv=cv)\n",
        "\n",
        "    # Confusion matrix components\n",
        "    tn, fp, fn, tp = confusion_matrix(y_train, y_pred_cv).ravel()\n",
        "\n",
        "    # Log metrics to MLFlow\n",
        "    mlflow.log_metric(\"F1_Score_Mean\", np.mean(f1_scores))\n",
        "    mlflow.log_metric(\"F1_Score_Std\", np.std(f1_scores))\n",
        "    mlflow.log_metric(\"True_Negatives\", tn)\n",
        "    mlflow.log_metric(\"False_Positives\", fp)\n",
        "    mlflow.log_metric(\"False_Negatives\", fn)\n",
        "    mlflow.log_metric(\"True_Positives\", tp)\n",
        "\n",
        "    # Log parameters\n",
        "    mlflow.log_param(\"Polynomial_Degree\", 2)\n",
        "\n",
        "    print(\"Experiment 6 - Polynomial Features\")\n",
        "    print(f\"F1-Score (mean): {np.mean(f1_scores)}\")\n",
        "    print(f\"F1-Score (std): {np.std(f1_scores)}\")\n",
        "    print(f\"Confusion Matrix: TN={tn}, FP={fp}, FN={fn}, TP={tp}\")\n"
      ]
    },
    {
      "cell_type": "markdown",
      "metadata": {
        "id": "HWmrRZCI9t0o"
      },
      "source": [
        "# Experiment 7"
      ]
    },
    {
      "cell_type": "code",
      "execution_count": null,
      "metadata": {
        "colab": {
          "base_uri": "https://localhost:8080/"
        },
        "id": "0cwUg5-K2i18",
        "outputId": "49311778-f9d4-4f49-96fa-ee19cdf8e0eb"
      },
      "outputs": [
        {
          "name": "stdout",
          "output_type": "stream",
          "text": [
            "Experiment 7 - Stacking Classifier\n",
            "F1-Score (mean): 0.9644964180362411\n",
            "F1-Score (std): 0.007227169357834982\n",
            "Confusion Matrix: TN=280, FP=5, FN=7, TP=163\n",
            "🏃 View run Experiment_7_Stacking_Classifier at: https://dagshub.com/abhyudhaysr/my-first-repo.mlflow/#/experiments/0/runs/011a1b3a87f84dcc9f7d79b55cacd162\n",
            "🧪 View experiment at: https://dagshub.com/abhyudhaysr/my-first-repo.mlflow/#/experiments/0\n"
          ]
        }
      ],
      "source": [
        "from sklearn.ensemble import StackingClassifier\n",
        "from sklearn.svm import SVC\n",
        "from sklearn.linear_model import LogisticRegression\n",
        "from sklearn.ensemble import RandomForestClassifier\n",
        "from sklearn.metrics import accuracy_score, f1_score, confusion_matrix, make_scorer\n",
        "from sklearn.model_selection import cross_val_score, cross_val_predict, StratifiedKFold\n",
        "import mlflow\n",
        "\n",
        "# Define base classifiers\n",
        "base_classifiers = [\n",
        "    (\"log_reg\", LogisticRegression(random_state=42, max_iter=1000)),\n",
        "    (\"rf\", RandomForestClassifier(random_state=42, n_estimators=100)),\n",
        "    (\"svc\", SVC(probability=True, random_state=42))  # Enable probability estimates for stacking\n",
        "]\n",
        "\n",
        "# Define meta-learner\n",
        "meta_learner = LogisticRegression(random_state=42, max_iter=1000)\n",
        "\n",
        "# Initialize Stacking Classifier\n",
        "stacking_clf = StackingClassifier(estimators=base_classifiers, final_estimator=meta_learner)\n",
        "\n",
        "# Cross-validation setup\n",
        "cv = StratifiedKFold(n_splits=3, shuffle=True, random_state=42)\n",
        "\n",
        "with mlflow.start_run(run_name=\"Experiment_7_Stacking_Classifier\"):\n",
        "    # Cross-validation F1-scores\n",
        "    f1_scores = cross_val_score(stacking_clf, X_train_scaled, y_train, cv=cv, scoring=make_scorer(f1_score))\n",
        "    y_pred_cv = cross_val_predict(stacking_clf, X_train_scaled, y_train, cv=cv)\n",
        "\n",
        "    # Confusion matrix components\n",
        "    tn, fp, fn, tp = confusion_matrix(y_train, y_pred_cv).ravel()\n",
        "\n",
        "    # Log metrics to MLflow\n",
        "    mlflow.log_metric(\"F1_Score_Mean\", np.mean(f1_scores))\n",
        "    mlflow.log_metric(\"F1_Score_Std\", np.std(f1_scores))\n",
        "    mlflow.log_metric(\"True_Negatives\", tn)\n",
        "    mlflow.log_metric(\"False_Positives\", fp)\n",
        "    mlflow.log_metric(\"False_Negatives\", fn)\n",
        "    mlflow.log_metric(\"True_Positives\", tp)\n",
        "\n",
        "    # Log classifier details\n",
        "    mlflow.log_param(\"Base_Classifiers\", [\"LogisticRegression\", \"RandomForest\", \"SVC\"])\n",
        "    mlflow.log_param(\"Meta_Learner\", \"LogisticRegression\")\n",
        "\n",
        "    print(\"Experiment 7 - Stacking Classifier\")\n",
        "    print(f\"F1-Score (mean): {np.mean(f1_scores)}\")\n",
        "    print(f\"F1-Score (std): {np.std(f1_scores)}\")\n",
        "    print(f\"Confusion Matrix: TN={tn}, FP={fp}, FN={fn}, TP={tp}\")\n"
      ]
    },
    {
      "cell_type": "markdown",
      "metadata": {
        "id": "ygpXqPqV9zUd"
      },
      "source": [
        "# F1 Score Plots"
      ]
    },
    {
      "cell_type": "code",
      "execution_count": 1,
      "metadata": {
        "colab": {
          "base_uri": "https://localhost:8080/",
          "height": 547
        },
        "id": "-ago1hUy-h-Y",
        "outputId": "07cac0db-69b0-4e4a-dc27-3056cbe17bd5"
      },
      "outputs": [
        {
          "data": {
            "image/png": "[encoded data removed]",
            "text/plain": [
              "<Figure size 1200x600 with 1 Axes>"
            ]
          },
          "metadata": {},
          "output_type": "display_data"
        }
      ],
      "source": [
        "import matplotlib.pyplot as plt\n",
        "\n",
        "# Data from the experiments\n",
        "models = [\n",
        "    'Polynomial Features',\n",
        "    'Stacking Classifier',\n",
        "    'Logistic Regression',\n",
        "    'Ridge Classifier',\n",
        "    'Random Forest Classifier',\n",
        "    'XGBoost Classifier'\n",
        "]\n",
        "\n",
        "# Corresponding F1 scores (mean values)\n",
        "f1_scores = [\n",
        "    0.9340367562844628,\n",
        "    0.9644964180362411,\n",
        "    0.9645989974937343,\n",
        "    0.9376892615886326,\n",
        "    0.9470579102623815,\n",
        "    0.9457776911905352\n",
        "]\n",
        "\n",
        "# Standard deviations for F1 scores\n",
        "f1_std = [\n",
        "    0.027387003695797302,\n",
        "    0.007227169357834982,\n",
        "    0.01419833232283792,\n",
        "    0.023876361403433587,\n",
        "    0.02167801232815656,\n",
        "    0.019439440823902254  # XGBoost standard deviation\n",
        "]\n",
        "\n",
        "# Create a bar plot with error bars\n",
        "plt.figure(figsize=(12,6))\n",
        "plt.bar(models, f1_scores, yerr=f1_std, capsize=5, color='skyblue', edgecolor='black')\n",
        "\n",
        "# Add title and labels\n",
        "plt.title('F1 Scores of Different Classifiers', fontsize=16)\n",
        "plt.xlabel('Classifier', fontsize=14)\n",
        "plt.ylabel('F1 Score', fontsize=14)\n",
        "\n",
        "# Display the plot\n",
        "plt.ylim(0, 1)  # Set y-axis limits to 0 and 1 (for F1 scores)\n",
        "plt.xticks(rotation=45, ha=\"right\")  # Rotate x-axis labels for better visibility\n",
        "plt.tight_layout()\n",
        "\n",
        "plt.show()\n"
      ]
    },
    {
      "cell_type": "markdown",
      "metadata": {
        "id": "_OhGThce9vH9"
      },
      "source": [
        "# Export Model"
      ]
    },
    {
      "cell_type": "code",
      "execution_count": 13,
      "metadata": {
        "colab": {
          "base_uri": "https://localhost:8080/"
        },
        "id": "Hx-YUQOh2nfW",
        "outputId": "9638faa1-a25a-4fe7-d868-c83975142f77"
      },
      "outputs": [
        {
          "name": "stdout",
          "output_type": "stream",
          "text": [
            "Model saved as 'best_logistic_regression_model.pkl'\n"
          ]
        }
      ],
      "source": [
        "import joblib\n",
        "\n",
        "# Retrain the best model (Logistic Regression) on the entire training set\n",
        "best_model = LogisticRegression(random_state=42, max_iter=1000)\n",
        "pipeline = Pipeline([\n",
        "    (\"scaler\", StandardScaler()),  # Preprocessing\n",
        "    (\"classifier\", best_model)\n",
        "])\n",
        "\n",
        "# Train the model\n",
        "pipeline.fit(X_train, y_train)\n",
        "\n",
        "# Save the model to a file\n",
        "joblib.dump(pipeline, \"best_logistic_regression_model.pkl\")\n",
        "print(\"Model saved as 'best_logistic_regression_model.pkl'\")"
      ]
    },
    {
      "cell_type": "markdown",
      "metadata": {
        "id": "NCFqaHOT-xm6"
      },
      "source": [
        "### Streamlit and Fast API Code"
      ]
    },
    {
      "cell_type": "code",
      "execution_count": null,
      "metadata": {
        "id": "IIeOKsf4-z7G"
      },
      "outputs": [],
      "source": [
        "### streamlit\n",
        "import streamlit as st\n",
        "import numpy as np\n",
        "import requests  # We will use requests to call FastAPI\n",
        "\n",
        "# Streamlit UI\n",
        "st.title(\"Breast Cancer Classification\")\n",
        "st.write(\n",
        "    \"\"\"\n",
        "    Enter the tumor features below, and the model will classify the tumor as:\n",
        "    - **0**: Benign\n",
        "    - **1**: Malignant\n",
        "    \"\"\"\n",
        ")\n",
        "\n",
        "# Input fields for tumor features\n",
        "st.header(\"Input Tumor Features\")\n",
        "features = []\n",
        "for i in range(1, 31):\n",
        "    value = st.number_input(f\"Feature {i}\", value=0.0, step=0.01)\n",
        "    features.append(value)\n",
        "\n",
        "# Classify button\n",
        "if st.button(\"Classify\"):\n",
        "    # Send the features to FastAPI for prediction\n",
        "    api_url = \"http://localhost:8000/predict\"  # Change to EC2 IP if running on remote server\n",
        "    response = requests.post(api_url, json={\"features\": features})\n",
        "\n",
        "    if response.status_code == 200:\n",
        "        prediction = response.json()\n",
        "        # Display result based on prediction\n",
        "        if prediction[\"prediction\"] == 1:\n",
        "            st.error(\"The tumor is predicted to be **Malignant**.\")\n",
        "        else:\n",
        "            st.success(\"The tumor is predicted to be **Benign**.\")\n",
        "    else:\n",
        "        st.error(\"Failed to get a prediction. Please try again.\")\n",
        "\n",
        "### FastAPI\n",
        "\n",
        "from fastapi import FastAPI\n",
        "from fastapi.responses import JSONResponse\n",
        "from pydantic import BaseModel\n",
        "import uvicorn\n",
        "import threading\n",
        "import numpy as np\n",
        "import joblib\n",
        "\n",
        "# Load the trained Logistic Regression model\n",
        "model = joblib.load(\"best_logistic_regression_model.pkl\")\n",
        "\n",
        "# FastAPI Application\n",
        "fastapi_app = FastAPI()\n",
        "\n",
        "# Pydantic schema for FastAPI\n",
        "class PredictionInput(BaseModel):\n",
        "    features: list[float]  # List of 30 feature values\n",
        "\n",
        "@fastapi_app.post(\"/predict\")\n",
        "async def predict(input_data: PredictionInput):\n",
        "    # Convert input features to a numpy array\n",
        "    input_array = np.array(input_data.features).reshape(1, -1)\n",
        "\n",
        "    # Make prediction\n",
        "    prediction = model.predict(input_array)\n",
        "\n",
        "    return JSONResponse(content={\"prediction\": int(prediction[0])})\n",
        "\n",
        "# Threading to run Streamlit and FastAPI together\n",
        "def start_fastapi():\n",
        "    uvicorn.run(fastapi_app, host=\"0.0.0.0\", port=8000)\n",
        "\n",
        "def start_streamlit():\n",
        "    import subprocess\n",
        "    import os\n",
        "    # Ensure we are running Streamlit from the correct directory\n",
        "    current_dir = os.path.dirname(os.path.abspath(__file__))  # Get the current working directory\n",
        "    streamlit_cmd = [\"streamlit\", \"run\", os.path.join(current_dir, \"ui.py\")]\n",
        "    subprocess.run(streamlit_cmd)\n",
        "\n",
        "if __name__ == \"__main__\":\n",
        "    # Start FastAPI in one thread\n",
        "    fastapi_thread = threading.Thread(target=start_fastapi)\n",
        "    fastapi_thread.start()\n",
        "\n",
        "    # Start Streamlit in another thread\n",
        "    streamlit_thread = threading.Thread(target=start_streamlit)\n",
        "    streamlit_thread.start()\n",
        "\n",
        "    # Wait for both threads to finish\n",
        "    fastapi_thread.join()\n",
        "    streamlit_thread.join()"
      ]
    },
    {
      "cell_type": "markdown",
      "metadata": {
        "id": "YvDMEeCj-_aP"
      },
      "source": [
        "### Dockerfile"
      ]
    },
    {
      "cell_type": "code",
      "execution_count": null,
      "metadata": {
        "id": "WjKkBSyt-_Eq"
      },
      "outputs": [],
      "source": [
        "# Use an official Python image\n",
        "FROM python:3.10-slim\n",
        "\n",
        "# Set the working directory in the container\n",
        "WORKDIR /app\n",
        "\n",
        "# Copy the necessary files into the container\n",
        "COPY app.py ui.py best_logistic_regression_model.pkl requirements.txt /app/\n",
        "\n",
        "# Install dependencies\n",
        "RUN pip install --no-cache-dir -r requirements.txt\n",
        "\n",
        "# Expose the ports for FastAPI (8000) and Streamlit (8501)\n",
        "EXPOSE 8000\n",
        "EXPOSE 8501\n",
        "\n",
        "# Start both FastAPI and Streamlit using a process manager or a shell script\n",
        "CMD [\"sh\", \"-c\", \"python3 app.py\"]"
      ]
    }
  ],
  "metadata": {
    "colab": {
      "provenance": []
    },
    "kernelspec": {
      "display_name": "Python 3",
      "language": "python",
      "name": "python3"
    },
    "language_info": {
      "name": "python",
      "version": "3.12.0"
    },
    "vscode": {
      "interpreter": {
        "hash": "7500c3e1c7c786e4ba1e4b4eb7588219b4e35d5153674f92eb3a82672b534f6e"
      }
    },
    "widgets": {
      "application/vnd.jupyter.widget-state+json": {
        "26d3332a720848b38cc5bd62faff0b0f": {
          "model_module": "@jupyter-widgets/output",
          "model_module_version": "1.0.0",
          "model_name": "OutputModel",
          "state": {
            "_dom_classes": [],
            "_model_module": "@jupyter-widgets/output",
            "_model_module_version": "1.0.0",
            "_model_name": "OutputModel",
            "_view_count": null,
            "_view_module": "@jupyter-widgets/output",
            "_view_module_version": "1.0.0",
            "_view_name": "OutputView",
            "layout": "IPY_MODEL_353006f1b5384b98b66303b5e1113d45",
            "msg_id": "",
            "outputs": [
              {
                "data": {
                  "text/html": "<pre style=\"white-space:pre;overflow-x:auto;line-height:normal;font-family:Menlo,'DejaVu Sans Mono',consolas,'Courier New',monospace\"><span style=\"color: #008000; text-decoration-color: #008000\">⠧</span> Waiting for authorization\n</pre>\n",
                  "text/plain": "\u001b[32m⠧\u001b[0m Waiting for authorization\n"
                },
                "metadata": {},
                "output_type": "display_data"
              }
            ]
          }
        },
        "353006f1b5384b98b66303b5e1113d45": {
          "model_module": "@jupyter-widgets/base",
          "model_module_version": "1.2.0",
          "model_name": "LayoutModel",
          "state": {
            "_model_module": "@jupyter-widgets/base",
            "_model_module_version": "1.2.0",
            "_model_name": "LayoutModel",
            "_view_count": null,
            "_view_module": "@jupyter-widgets/base",
            "_view_module_version": "1.2.0",
            "_view_name": "LayoutView",
            "align_content": null,
            "align_items": null,
            "align_self": null,
            "border": null,
            "bottom": null,
            "display": null,
            "flex": null,
            "flex_flow": null,
            "grid_area": null,
            "grid_auto_columns": null,
            "grid_auto_flow": null,
            "grid_auto_rows": null,
            "grid_column": null,
            "grid_gap": null,
            "grid_row": null,
            "grid_template_areas": null,
            "grid_template_columns": null,
            "grid_template_rows": null,
            "height": null,
            "justify_content": null,
            "justify_items": null,
            "left": null,
            "margin": null,
            "max_height": null,
            "max_width": null,
            "min_height": null,
            "min_width": null,
            "object_fit": null,
            "object_position": null,
            "order": null,
            "overflow": null,
            "overflow_x": null,
            "overflow_y": null,
            "padding": null,
            "right": null,
            "top": null,
            "visibility": null,
            "width": null
          }
        }
      }
    }
  },
  "nbformat": 4,
  "nbformat_minor": 0
}
